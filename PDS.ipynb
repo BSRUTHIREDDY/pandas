{
 "cells": [
  {
   "cell_type": "code",
   "execution_count": 15,
   "id": "f8b32cd6-b094-4b69-814a-a8b13385b52c",
   "metadata": {},
   "outputs": [
    {
     "name": "stdout",
     "output_type": "stream",
     "text": [
      "3.0\n",
      "4\n",
      "True\n",
      "string\n",
      "['hi', 'bye']\n",
      "{'bello', 'hello'}\n",
      "{'age': 45, 'height': 5}\n",
      "(2, 4, 'hey')\n",
      "<class 'float'>\n",
      "<class 'int'>\n",
      "<class 'bool'>\n",
      "<class 'str'>\n",
      "<class 'list'>\n",
      "<class 'set'>\n",
      "<class 'dict'>\n",
      "<class 'tuple'>\n",
      "3.0 4\n"
     ]
    }
   ],
   "source": [
    "#knowing each datatype that are in python by intializing values to variables\n",
    "a=4\n",
    "b=3.0\n",
    "c=True\n",
    "d=\"string\"\n",
    "e=['hi','bye']\n",
    "f={\"hello\",\"bello\"}\n",
    "g={\"age\":45,\"height\":5 }\n",
    "h=(2,4 ,\"hey\")\n",
    "a,b = b,a\n",
    "print(a)\n",
    "print(b)\n",
    "print(c)\n",
    "print(d)\n",
    "print(e)\n",
    "print(f)\n",
    "print(g)\n",
    "print(h)\n",
    "print(type(a))\n",
    "print(type(b))\n",
    "print(type(c))\n",
    "print(type(d))\n",
    "print(type(e))\n",
    "print(type(f))\n",
    "print(type(g))\n",
    "print(type(h))\n",
    "print(a,b)"
   ]
  },
  {
   "cell_type": "code",
   "execution_count": 26,
   "id": "3e7778d3-28a4-41d9-9cf7-0b4ac0b0aebb",
   "metadata": {
    "jp-MarkdownHeadingCollapsed": true,
    "tags": []
   },
   "outputs": [
    {
     "name": "stdin",
     "output_type": "stream",
     "text": [
      "n= 4\n"
     ]
    },
    {
     "ename": "TypeError",
     "evalue": "unsupported operand type(s) for *: 'int' and 'NoneType'",
     "output_type": "error",
     "traceback": [
      "\u001b[0;31m---------------------------------------------------------------------------\u001b[0m",
      "\u001b[0;31mTypeError\u001b[0m                                 Traceback (most recent call last)",
      "Input \u001b[0;32mIn [26]\u001b[0m, in \u001b[0;36m<cell line: 10>\u001b[0;34m()\u001b[0m\n\u001b[1;32m      8\u001b[0m         \u001b[38;5;28;01mreturn\u001b[39;00m fact1\n\u001b[1;32m      9\u001b[0m n\u001b[38;5;241m=\u001b[39m\u001b[38;5;28mint\u001b[39m(\u001b[38;5;28minput\u001b[39m(\u001b[38;5;124m\"\u001b[39m\u001b[38;5;124mn=\u001b[39m\u001b[38;5;124m\"\u001b[39m))   \n\u001b[0;32m---> 10\u001b[0m \u001b[38;5;28mprint\u001b[39m(\u001b[43mfact\u001b[49m\u001b[43m(\u001b[49m\u001b[43mn\u001b[49m\u001b[43m)\u001b[49m)\n",
      "Input \u001b[0;32mIn [26]\u001b[0m, in \u001b[0;36mfact\u001b[0;34m(n)\u001b[0m\n\u001b[1;32m      2\u001b[0m \u001b[38;5;28;01mdef\u001b[39;00m \u001b[38;5;21mfact\u001b[39m(n):\n\u001b[1;32m      4\u001b[0m     \u001b[38;5;28;01mif\u001b[39;00m(n\u001b[38;5;241m>\u001b[39m\u001b[38;5;241m=\u001b[39m\u001b[38;5;241m1\u001b[39m):\n\u001b[0;32m----> 5\u001b[0m           f\u001b[38;5;241m=\u001b[39mn\u001b[38;5;241m*\u001b[39m\u001b[43mfact\u001b[49m\u001b[43m \u001b[49m\u001b[43m(\u001b[49m\u001b[43mn\u001b[49m\u001b[38;5;241;43m-\u001b[39;49m\u001b[38;5;241;43m1\u001b[39;49m\u001b[43m)\u001b[49m\n\u001b[1;32m      6\u001b[0m     \u001b[38;5;28;01melse\u001b[39;00m:\n\u001b[1;32m      7\u001b[0m         fact1\u001b[38;5;241m=\u001b[39m\u001b[38;5;241m1\u001b[39m\n",
      "Input \u001b[0;32mIn [26]\u001b[0m, in \u001b[0;36mfact\u001b[0;34m(n)\u001b[0m\n\u001b[1;32m      2\u001b[0m \u001b[38;5;28;01mdef\u001b[39;00m \u001b[38;5;21mfact\u001b[39m(n):\n\u001b[1;32m      4\u001b[0m     \u001b[38;5;28;01mif\u001b[39;00m(n\u001b[38;5;241m>\u001b[39m\u001b[38;5;241m=\u001b[39m\u001b[38;5;241m1\u001b[39m):\n\u001b[0;32m----> 5\u001b[0m           f\u001b[38;5;241m=\u001b[39mn\u001b[38;5;241m*\u001b[39m\u001b[43mfact\u001b[49m\u001b[43m \u001b[49m\u001b[43m(\u001b[49m\u001b[43mn\u001b[49m\u001b[38;5;241;43m-\u001b[39;49m\u001b[38;5;241;43m1\u001b[39;49m\u001b[43m)\u001b[49m\n\u001b[1;32m      6\u001b[0m     \u001b[38;5;28;01melse\u001b[39;00m:\n\u001b[1;32m      7\u001b[0m         fact1\u001b[38;5;241m=\u001b[39m\u001b[38;5;241m1\u001b[39m\n",
      "Input \u001b[0;32mIn [26]\u001b[0m, in \u001b[0;36mfact\u001b[0;34m(n)\u001b[0m\n\u001b[1;32m      2\u001b[0m \u001b[38;5;28;01mdef\u001b[39;00m \u001b[38;5;21mfact\u001b[39m(n):\n\u001b[1;32m      4\u001b[0m     \u001b[38;5;28;01mif\u001b[39;00m(n\u001b[38;5;241m>\u001b[39m\u001b[38;5;241m=\u001b[39m\u001b[38;5;241m1\u001b[39m):\n\u001b[0;32m----> 5\u001b[0m           f\u001b[38;5;241m=\u001b[39m\u001b[43mn\u001b[49m\u001b[38;5;241;43m*\u001b[39;49m\u001b[43mfact\u001b[49m\u001b[43m \u001b[49m\u001b[43m(\u001b[49m\u001b[43mn\u001b[49m\u001b[38;5;241;43m-\u001b[39;49m\u001b[38;5;241;43m1\u001b[39;49m\u001b[43m)\u001b[49m\n\u001b[1;32m      6\u001b[0m     \u001b[38;5;28;01melse\u001b[39;00m:\n\u001b[1;32m      7\u001b[0m         fact1\u001b[38;5;241m=\u001b[39m\u001b[38;5;241m1\u001b[39m\n",
      "\u001b[0;31mTypeError\u001b[0m: unsupported operand type(s) for *: 'int' and 'NoneType'"
     ]
    }
   ],
   "source": [
    "#to print the factioral of the given number\n",
    "def fact(n):\n",
    "     \n",
    "    if(n>=1):\n",
    "          f=n*fact (n-1)\n",
    "    else:\n",
    "        fact1=1\n",
    "        return fact1\n",
    "n=int(input(\"n=\"))   \n",
    "print(fact(n))"
   ]
  },
  {
   "cell_type": "code",
   "execution_count": 18,
   "id": "b9d9f20d-a80f-4bb8-b577-ccb9b34dfc7c",
   "metadata": {},
   "outputs": [
    {
     "name": "stdin",
     "output_type": "stream",
     "text": [
      "enter the num: 1\n"
     ]
    },
    {
     "name": "stdout",
     "output_type": "stream",
     "text": [
      "sum= 1\n",
      "avg= 1.0\n"
     ]
    }
   ],
   "source": [
    "#to find the sum and average of n numbers\n",
    "a=int(input(\"enter the num:\"))\n",
    "temp=a\n",
    "sum=0\n",
    "if a<0:\n",
    "    print(\"the number is negative.\")\n",
    "else:\n",
    "    while a>0:\n",
    "        sum+=a\n",
    "        a-=1       \n",
    "print(\"sum=\",sum)\n",
    "print(\"avg=\",sum/temp)"
   ]
  },
  {
   "cell_type": "code",
   "execution_count": 4,
   "id": "3981c828-50a4-43a9-8162-86202f275bac",
   "metadata": {},
   "outputs": [
    {
     "name": "stdin",
     "output_type": "stream",
     "text": [
      "How many terms you needed  7\n"
     ]
    },
    {
     "name": "stdout",
     "output_type": "stream",
     "text": [
      "Fibonacci sequence:\n",
      "0\n",
      "1\n",
      "1\n",
      "2\n",
      "3\n",
      "5\n",
      "8\n"
     ]
    }
   ],
   "source": [
    "#to print the fibonacci series\n",
    "n = int(input(\"How many terms you needed \"))\n",
    "m,x = 0, 1\n",
    "su = 0\n",
    "if n<= 0:\n",
    "    print(\"Please enter a positive integer\")\n",
    "elif n == 1:\n",
    "    print(\"Fibonacci sequence upto\",n,\":\")\n",
    "    print(n1)\n",
    "else:\n",
    "    print(\"Fibonacci sequence:\")\n",
    "    while su < n:\n",
    "        print(m)\n",
    "        nth = m + x\n",
    "        m = x\n",
    "        x = nth\n",
    "        su+= 1"
   ]
  },
  {
   "cell_type": "code",
   "execution_count": 13,
   "id": "fb75bcc3-781e-4863-b1c1-3be6315e90ce",
   "metadata": {},
   "outputs": [
    {
     "data": {
      "text/plain": [
       "(4, 3.0, 'Python mania', 'Saina')"
      ]
     },
     "execution_count": 13,
     "metadata": {},
     "output_type": "execute_result"
    }
   ],
   "source": []
  },
  {
   "cell_type": "code",
   "execution_count": 14,
   "id": "e7123588-cb2e-42e9-a66a-168e0f017ad0",
   "metadata": {},
   "outputs": [
    {
     "name": "stdin",
     "output_type": "stream",
     "text": [
      "enter a number from where u want to start 2\n",
      "enter a number where u want to stop 4\n"
     ]
    },
    {
     "name": "stdout",
     "output_type": "stream",
     "text": [
      "2,3,"
     ]
    }
   ],
   "source": [
    "#to find the prime numbers between two numbers\n",
    "x=int(input(\"enter a number from where u want to start\"))\n",
    "y=int(input(\"enter a number where u want to stop\"))\n",
    "count=0\n",
    "#prime number in the sense having only 2 number as exact divisor i.e. 1 and itself can divide that number\n",
    "for i in range(x,y):\n",
    "    for j in range(1,i+1):\n",
    "        if(i%j==0):\n",
    "            count=count+1\n",
    "    if(count==2):\n",
    "        print(i,end=\",\")\n",
    "    count=0"
   ]
  },
  {
   "cell_type": "code",
   "execution_count": 16,
   "id": "5ed3c750-0243-4939-b46d-dbcf08fcd8eb",
   "metadata": {},
   "outputs": [
    {
     "name": "stdin",
     "output_type": "stream",
     "text": [
      "enter the first num:  2\n",
      "enter the second num:  4\n",
      "enter the third num:  6\n"
     ]
    },
    {
     "name": "stdout",
     "output_type": "stream",
     "text": [
      "6 is greater\n"
     ]
    }
   ],
   "source": [
    "#to find which number is greater\n",
    "a=int(input(\"enter the first num: \"))\n",
    "b=int(input(\"enter the second num: \"))\n",
    "c=int(input(\"enter the third num: \"))\n",
    "if (a>b) and (a>c):\n",
    "    print(a,\"is greater\")\n",
    "elif (b>c) and (b>a):\n",
    "            print(b,\"is greater\")\n",
    "else:\n",
    "                print(c,\"is greater\")"
   ]
  },
  {
   "cell_type": "code",
   "execution_count": 17,
   "id": "ea48723b-33b0-403c-9b1b-280297b9e3ed",
   "metadata": {},
   "outputs": [
    {
     "data": {
      "text/plain": [
       "array([[[ 60,  61],\n",
       "        [ 62,  63],\n",
       "        [ 64,  65],\n",
       "        [ 66,  67],\n",
       "        [ 68,  69],\n",
       "        [ 70,  71]],\n",
       "\n",
       "       [[ 72,  73],\n",
       "        [ 74,  75],\n",
       "        [ 76,  77],\n",
       "        [ 78,  79],\n",
       "        [ 80,  81],\n",
       "        [ 82,  83]],\n",
       "\n",
       "       [[ 84,  85],\n",
       "        [ 86,  87],\n",
       "        [ 88,  89],\n",
       "        [ 90,  91],\n",
       "        [ 92,  93],\n",
       "        [ 94,  95]],\n",
       "\n",
       "       [[ 96,  97],\n",
       "        [ 98,  99],\n",
       "        [100, 101],\n",
       "        [102, 103],\n",
       "        [104, 105],\n",
       "        [106, 107]],\n",
       "\n",
       "       [[108, 109],\n",
       "        [110, 111],\n",
       "        [112, 113],\n",
       "        [114, 115],\n",
       "        [116, 117],\n",
       "        [118, 119]]])"
      ]
     },
     "execution_count": 17,
     "metadata": {},
     "output_type": "execute_result"
    }
   ],
   "source": [
    "\n",
    "import numpy as np\n",
    "a = np.arange(60,120).reshape(5,6,2)\n",
    "a"
   ]
  },
  {
   "cell_type": "code",
   "execution_count": 35,
   "id": "f3e36f42-5c2c-4f86-865a-b40fbefad8c9",
   "metadata": {},
   "outputs": [
    {
     "data": {
      "text/plain": [
       "array([  1,   4,   9,  16,  25,  36,  49,  64,  81, 100])"
      ]
     },
     "execution_count": 35,
     "metadata": {},
     "output_type": "execute_result"
    }
   ],
   "source": [
    "b = np.array([x**2 for x in range(1,10+1)])\n",
    "b\n"
   ]
  },
  {
   "cell_type": "code",
   "execution_count": 37,
   "id": "7c9832b2-7741-4fcd-838a-d9d4a3f01973",
   "metadata": {},
   "outputs": [
    {
     "data": {
      "text/plain": [
       "'int64'"
      ]
     },
     "execution_count": 37,
     "metadata": {},
     "output_type": "execute_result"
    }
   ],
   "source": [
    "type(b)\n",
    "b.dtype.name"
   ]
  },
  {
   "cell_type": "code",
   "execution_count": 20,
   "id": "e8232cc9-dff7-4dc4-98a6-dbed4e2a3314",
   "metadata": {},
   "outputs": [
    {
     "data": {
      "text/plain": [
       "3"
      ]
     },
     "execution_count": 20,
     "metadata": {},
     "output_type": "execute_result"
    }
   ],
   "source": [
    "a.ndim"
   ]
  },
  {
   "cell_type": "code",
   "execution_count": 23,
   "id": "0a881191-2c42-49db-bcd8-7b2ab52c9e3b",
   "metadata": {},
   "outputs": [
    {
     "name": "stdout",
     "output_type": "stream",
     "text": [
      "7\n"
     ]
    }
   ],
   "source": [
    "def sum(x,y):\n",
    "    print(x+y)\n",
    "sum(3,4)"
   ]
  },
  {
   "cell_type": "code",
   "execution_count": 24,
   "id": "5f009441-5b47-43e5-b12a-34c3f36d67f0",
   "metadata": {},
   "outputs": [
    {
     "data": {
      "text/plain": [
       "b'hello'"
      ]
     },
     "execution_count": 24,
     "metadata": {},
     "output_type": "execute_result"
    }
   ],
   "source": [
    "x=b\"hello\"\n",
    "x"
   ]
  },
  {
   "cell_type": "code",
   "execution_count": 25,
   "id": "0664f3c9-0168-47bd-827d-4c1d77014cc9",
   "metadata": {},
   "outputs": [
    {
     "data": {
      "text/plain": [
       "bytes"
      ]
     },
     "execution_count": 25,
     "metadata": {},
     "output_type": "execute_result"
    }
   ],
   "source": [
    "type(x)"
   ]
  },
  {
   "cell_type": "code",
   "execution_count": 26,
   "id": "fc7628b1-b050-4496-ba91-363927d67869",
   "metadata": {},
   "outputs": [
    {
     "data": {
      "text/plain": [
       "NoneType"
      ]
     },
     "execution_count": 26,
     "metadata": {},
     "output_type": "execute_result"
    }
   ],
   "source": [
    "d=None\n",
    "type(d)"
   ]
  },
  {
   "cell_type": "code",
   "execution_count": 31,
   "id": "500bd4d4-9f90-411f-a3d3-38c71249cc27",
   "metadata": {},
   "outputs": [
    {
     "name": "stdout",
     "output_type": "stream",
     "text": [
      "[[  0   0   0]\n",
      " [  1   1   1]\n",
      " [  2   4   8]\n",
      " [  3   9  27]\n",
      " [  4  16  64]\n",
      " [  5  25 125]\n",
      " [  6  36 216]\n",
      " [  7  49 343]\n",
      " [  8  64 512]\n",
      " [  9  81 729]]\n"
     ]
    }
   ],
   "source": [
    "m = [[x,x**2,x**3] for x in range (10)]\n",
    "m"
   ]
  },
  {
   "cell_type": "code",
   "execution_count": 32,
   "id": "e10fda0c-0285-405d-b958-d1df29918188",
   "metadata": {},
   "outputs": [
    {
     "name": "stdout",
     "output_type": "stream",
     "text": [
      "[[  0   0   0]\n",
      " [  1   1   1]\n",
      " [  2   4   8]\n",
      " [  3   9  27]\n",
      " [  4  16  64]\n",
      " [  5  25 125]\n",
      " [  6  36 216]\n",
      " [  7  49 343]\n",
      " [  8  64 512]\n",
      " [  9  81 729]]\n"
     ]
    }
   ],
   "source": [
    "a = np.array(m)\n",
    "print (a)"
   ]
  },
  {
   "cell_type": "code",
   "execution_count": null,
   "id": "94fa5aec-1286-4235-8123-5ef2e1e952e7",
   "metadata": {},
   "outputs": [],
   "source": []
  }
 ],
 "metadata": {
  "kernelspec": {
   "display_name": "Python 3 (ipykernel)",
   "language": "python",
   "name": "python3"
  },
  "language_info": {
   "codemirror_mode": {
    "name": "ipython",
    "version": 3
   },
   "file_extension": ".py",
   "mimetype": "text/x-python",
   "name": "python",
   "nbconvert_exporter": "python",
   "pygments_lexer": "ipython3",
   "version": "3.9.12"
  }
 },
 "nbformat": 4,
 "nbformat_minor": 5
}
