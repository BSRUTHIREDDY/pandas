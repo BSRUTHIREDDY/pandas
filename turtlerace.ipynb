{
 "cells": [
  {
   "cell_type": "code",
   "execution_count": 1,
   "id": "18a913e6-8f61-4db4-89f1-a3593e98460e",
   "metadata": {},
   "outputs": [
    {
     "name": "stdout",
     "output_type": "stream",
     "text": [
      "you've lost , yellow turtle is the winner\n"
     ]
    }
   ],
   "source": [
    "from turtle import Turtle ,Screen\n",
    "import random\n",
    "is_race_on = False\n",
    "screen = Screen()\n",
    "screen.setup(500,400)#it build screen with width &height given.\n",
    "user_bet = screen.textinput(title=\"make your bet\",prompt=\"which turtle will win ?enter a color:\")\n",
    "colors = [\"red\",\"yellow\",\"orange\",\"blue\",\"purple\",\"pink\"]\n",
    "y_position = [-70,-40,-10,20,50,80]\n",
    "all_turtle = []\n",
    "for turtle_index in range(0,6):\n",
    "    new_turtle = Turtle(shape=\"turtle\")\n",
    "    new_turtle.color(colors[turtle_index])\n",
    "    new_turtle.penup()\n",
    "    new_turtle.goto(x=-230, y=y_position[turtle_index])\n",
    "    all_turtle.append(new_turtle)\n",
    "if user_bet:\n",
    "    is_race_on = True\n",
    "while is_race_on:\n",
    "    for turtle in all_turtle:\n",
    "        if turtle.xcor()>230:\n",
    "            is_race_on = False\n",
    "            winning_color = turtle.pencolor()\n",
    "            if winning_color == user_bet:\n",
    "                print(f\"you've won , {winning_color} turtle is the winner\")\n",
    "            else:\n",
    "                print(f\"you've lost , {winning_color} turtle is the winner\")\n",
    "\n",
    "        rand_distance = random.randint(0, 10)\n",
    "        turtle.forward(rand_distance)\n",
    "\n",
    "screen.exitonclick()\n"
   ]
  },
  {
   "cell_type": "code",
   "execution_count": null,
   "id": "800fdc0a-7fa4-4ab8-a3a8-f5c8f12e5c87",
   "metadata": {},
   "outputs": [],
   "source": []
  }
 ],
 "metadata": {
  "kernelspec": {
   "display_name": "Python 3 (ipykernel)",
   "language": "python",
   "name": "python3"
  },
  "language_info": {
   "codemirror_mode": {
    "name": "ipython",
    "version": 3
   },
   "file_extension": ".py",
   "mimetype": "text/x-python",
   "name": "python",
   "nbconvert_exporter": "python",
   "pygments_lexer": "ipython3",
   "version": "3.9.12"
  }
 },
 "nbformat": 4,
 "nbformat_minor": 5
}
