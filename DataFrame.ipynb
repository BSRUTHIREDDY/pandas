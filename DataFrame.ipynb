{
 "cells": [
  {
   "cell_type": "code",
   "execution_count": 20,
   "id": "7110bb27",
   "metadata": {},
   "outputs": [],
   "source": [
    "import pandas as pd\n",
    "import numpy as np\n"
   ]
  },
  {
   "cell_type": "code",
   "execution_count": 21,
   "id": "f7b83ddf-cdcf-426c-982a-9f15cbf423c2",
   "metadata": {},
   "outputs": [],
   "source": [
    "d={'USN':[100,23,245],\n",
    "   'NAME':['NIKI','HARSISHA','ASH'],\n",
    "   'MOBLIE':[24,45,67],\n",
    "   'MARKS':[88,99,56]\n",
    "  }\n",
    "   "
   ]
  },
  {
   "cell_type": "code",
   "execution_count": 22,
   "id": "20a752ab-791d-4c4b-bc8a-0277da851ccd",
   "metadata": {},
   "outputs": [],
   "source": [
    "std=pd.DataFrame(d)"
   ]
  },
  {
   "cell_type": "code",
   "execution_count": 23,
   "id": "a1ebd2cb-d757-4848-aa3a-cc81b6427fce",
   "metadata": {},
   "outputs": [
    {
     "data": {
      "text/html": [
       "<div>\n",
       "<style scoped>\n",
       "    .dataframe tbody tr th:only-of-type {\n",
       "        vertical-align: middle;\n",
       "    }\n",
       "\n",
       "    .dataframe tbody tr th {\n",
       "        vertical-align: top;\n",
       "    }\n",
       "\n",
       "    .dataframe thead th {\n",
       "        text-align: right;\n",
       "    }\n",
       "</style>\n",
       "<table border=\"1\" class=\"dataframe\">\n",
       "  <thead>\n",
       "    <tr style=\"text-align: right;\">\n",
       "      <th></th>\n",
       "      <th>USN</th>\n",
       "      <th>NAME</th>\n",
       "      <th>MOBLIE</th>\n",
       "      <th>MARKS</th>\n",
       "    </tr>\n",
       "  </thead>\n",
       "  <tbody>\n",
       "    <tr>\n",
       "      <th>0</th>\n",
       "      <td>100</td>\n",
       "      <td>NIKI</td>\n",
       "      <td>24</td>\n",
       "      <td>88</td>\n",
       "    </tr>\n",
       "    <tr>\n",
       "      <th>1</th>\n",
       "      <td>23</td>\n",
       "      <td>HARSISHA</td>\n",
       "      <td>45</td>\n",
       "      <td>99</td>\n",
       "    </tr>\n",
       "    <tr>\n",
       "      <th>2</th>\n",
       "      <td>245</td>\n",
       "      <td>ASH</td>\n",
       "      <td>67</td>\n",
       "      <td>56</td>\n",
       "    </tr>\n",
       "  </tbody>\n",
       "</table>\n",
       "</div>"
      ],
      "text/plain": [
       "   USN      NAME  MOBLIE  MARKS\n",
       "0  100      NIKI      24     88\n",
       "1   23  HARSISHA      45     99\n",
       "2  245       ASH      67     56"
      ]
     },
     "execution_count": 23,
     "metadata": {},
     "output_type": "execute_result"
    }
   ],
   "source": [
    "std"
   ]
  },
  {
   "cell_type": "code",
   "execution_count": 24,
   "id": "c5561abe-568a-40f1-90c4-e173ad32154f",
   "metadata": {},
   "outputs": [
    {
     "data": {
      "text/html": [
       "<div>\n",
       "<style scoped>\n",
       "    .dataframe tbody tr th:only-of-type {\n",
       "        vertical-align: middle;\n",
       "    }\n",
       "\n",
       "    .dataframe tbody tr th {\n",
       "        vertical-align: top;\n",
       "    }\n",
       "\n",
       "    .dataframe thead th {\n",
       "        text-align: right;\n",
       "    }\n",
       "</style>\n",
       "<table border=\"1\" class=\"dataframe\">\n",
       "  <thead>\n",
       "    <tr style=\"text-align: right;\">\n",
       "      <th></th>\n",
       "      <th>USN</th>\n",
       "      <th>NAME</th>\n",
       "      <th>MOBLIE</th>\n",
       "      <th>MARKS</th>\n",
       "    </tr>\n",
       "  </thead>\n",
       "  <tbody>\n",
       "    <tr>\n",
       "      <th>0</th>\n",
       "      <td>100</td>\n",
       "      <td>NIKI</td>\n",
       "      <td>24</td>\n",
       "      <td>88</td>\n",
       "    </tr>\n",
       "    <tr>\n",
       "      <th>1</th>\n",
       "      <td>23</td>\n",
       "      <td>HARSISHA</td>\n",
       "      <td>45</td>\n",
       "      <td>99</td>\n",
       "    </tr>\n",
       "  </tbody>\n",
       "</table>\n",
       "</div>"
      ],
      "text/plain": [
       "   USN      NAME  MOBLIE  MARKS\n",
       "0  100      NIKI      24     88\n",
       "1   23  HARSISHA      45     99"
      ]
     },
     "execution_count": 24,
     "metadata": {},
     "output_type": "execute_result"
    }
   ],
   "source": [
    "std.head(2)\n",
    "#displaying rows"
   ]
  },
  {
   "cell_type": "code",
   "execution_count": 25,
   "id": "0836a6aa-012f-4ac1-91ec-c7ff9568bda7",
   "metadata": {},
   "outputs": [
    {
     "name": "stdout",
     "output_type": "stream",
     "text": [
      "<class 'pandas.core.frame.DataFrame'>\n",
      "RangeIndex: 3 entries, 0 to 2\n",
      "Data columns (total 4 columns):\n",
      " #   Column  Non-Null Count  Dtype \n",
      "---  ------  --------------  ----- \n",
      " 0   USN     3 non-null      int64 \n",
      " 1   NAME    3 non-null      object\n",
      " 2   MOBLIE  3 non-null      int64 \n",
      " 3   MARKS   3 non-null      int64 \n",
      "dtypes: int64(3), object(1)\n",
      "memory usage: 224.0+ bytes\n"
     ]
    }
   ],
   "source": [
    "std.info()\n",
    "#gives all info about df"
   ]
  },
  {
   "cell_type": "code",
   "execution_count": 26,
   "id": "206ac335-1a09-495a-9350-2af2a81a1657",
   "metadata": {},
   "outputs": [
    {
     "data": {
      "text/plain": [
       "Index(['USN', 'NAME', 'MOBLIE', 'MARKS'], dtype='object')"
      ]
     },
     "execution_count": 26,
     "metadata": {},
     "output_type": "execute_result"
    }
   ],
   "source": [
    "std.columns\n",
    "#displays columns"
   ]
  },
  {
   "cell_type": "code",
   "execution_count": 27,
   "id": "6cf9cf23-ce38-466b-ad4e-3327b2fdba13",
   "metadata": {},
   "outputs": [
    {
     "data": {
      "text/html": [
       "<div>\n",
       "<style scoped>\n",
       "    .dataframe tbody tr th:only-of-type {\n",
       "        vertical-align: middle;\n",
       "    }\n",
       "\n",
       "    .dataframe tbody tr th {\n",
       "        vertical-align: top;\n",
       "    }\n",
       "\n",
       "    .dataframe thead th {\n",
       "        text-align: right;\n",
       "    }\n",
       "</style>\n",
       "<table border=\"1\" class=\"dataframe\">\n",
       "  <thead>\n",
       "    <tr style=\"text-align: right;\">\n",
       "      <th></th>\n",
       "      <th>USN</th>\n",
       "      <th>NAME</th>\n",
       "      <th>MOBLIE</th>\n",
       "      <th>MARKS</th>\n",
       "    </tr>\n",
       "  </thead>\n",
       "  <tbody>\n",
       "    <tr>\n",
       "      <th>0</th>\n",
       "      <td>False</td>\n",
       "      <td>False</td>\n",
       "      <td>False</td>\n",
       "      <td>False</td>\n",
       "    </tr>\n",
       "    <tr>\n",
       "      <th>1</th>\n",
       "      <td>False</td>\n",
       "      <td>False</td>\n",
       "      <td>False</td>\n",
       "      <td>False</td>\n",
       "    </tr>\n",
       "    <tr>\n",
       "      <th>2</th>\n",
       "      <td>False</td>\n",
       "      <td>False</td>\n",
       "      <td>False</td>\n",
       "      <td>False</td>\n",
       "    </tr>\n",
       "  </tbody>\n",
       "</table>\n",
       "</div>"
      ],
      "text/plain": [
       "     USN   NAME  MOBLIE  MARKS\n",
       "0  False  False   False  False\n",
       "1  False  False   False  False\n",
       "2  False  False   False  False"
      ]
     },
     "execution_count": 27,
     "metadata": {},
     "output_type": "execute_result"
    }
   ],
   "source": [
    "std.isnull()"
   ]
  },
  {
   "cell_type": "code",
   "execution_count": 28,
   "id": "7007c769-0b82-49c5-a2f2-edbab23a3f48",
   "metadata": {},
   "outputs": [
    {
     "data": {
      "text/plain": [
       "0    100\n",
       "1     23\n",
       "2    245\n",
       "Name: USN, dtype: int64"
      ]
     },
     "execution_count": 28,
     "metadata": {},
     "output_type": "execute_result"
    }
   ],
   "source": [
    "#access columns\n",
    "std['USN']"
   ]
  },
  {
   "cell_type": "code",
   "execution_count": 29,
   "id": "4e05117b-6c69-4332-880b-cad893c2f467",
   "metadata": {},
   "outputs": [
    {
     "data": {
      "text/html": [
       "<div>\n",
       "<style scoped>\n",
       "    .dataframe tbody tr th:only-of-type {\n",
       "        vertical-align: middle;\n",
       "    }\n",
       "\n",
       "    .dataframe tbody tr th {\n",
       "        vertical-align: top;\n",
       "    }\n",
       "\n",
       "    .dataframe thead th {\n",
       "        text-align: right;\n",
       "    }\n",
       "</style>\n",
       "<table border=\"1\" class=\"dataframe\">\n",
       "  <thead>\n",
       "    <tr style=\"text-align: right;\">\n",
       "      <th></th>\n",
       "      <th>USN</th>\n",
       "      <th>MARKS</th>\n",
       "    </tr>\n",
       "  </thead>\n",
       "  <tbody>\n",
       "    <tr>\n",
       "      <th>0</th>\n",
       "      <td>100</td>\n",
       "      <td>88</td>\n",
       "    </tr>\n",
       "    <tr>\n",
       "      <th>1</th>\n",
       "      <td>23</td>\n",
       "      <td>99</td>\n",
       "    </tr>\n",
       "    <tr>\n",
       "      <th>2</th>\n",
       "      <td>245</td>\n",
       "      <td>56</td>\n",
       "    </tr>\n",
       "  </tbody>\n",
       "</table>\n",
       "</div>"
      ],
      "text/plain": [
       "   USN  MARKS\n",
       "0  100     88\n",
       "1   23     99\n",
       "2  245     56"
      ]
     },
     "execution_count": 29,
     "metadata": {},
     "output_type": "execute_result"
    }
   ],
   "source": [
    "#acsess mutlple col\n",
    "std[['USN','MARKS']]"
   ]
  },
  {
   "cell_type": "code",
   "execution_count": 30,
   "id": "e46c68d7-1f27-4ea8-9213-684c28d3df7d",
   "metadata": {},
   "outputs": [
    {
     "data": {
      "text/plain": [
       "USN             23\n",
       "NAME      HARSISHA\n",
       "MOBLIE          45\n",
       "MARKS           99\n",
       "Name: 1, dtype: object"
      ]
     },
     "execution_count": 30,
     "metadata": {},
     "output_type": "execute_result"
    }
   ],
   "source": [
    "#access rows\n",
    "std.loc[1]"
   ]
  },
  {
   "cell_type": "code",
   "execution_count": 31,
   "id": "1711e579-7a00-4430-a4b8-86943180311b",
   "metadata": {},
   "outputs": [],
   "source": [
    "#create a df cars having a attributes car id,car name,it should have 5 values\n",
    "d={\"car_id\":[23456,7448,2345,7890,5627],\n",
    "   \"car_name\":[\"swift\",\"kiv\",\"ford\",\"BMW\",\"mg\"]}\n"
   ]
  },
  {
   "cell_type": "code",
   "execution_count": 32,
   "id": "3e1a09c8-205b-4ffe-97af-e4d641b7f06b",
   "metadata": {},
   "outputs": [],
   "source": [
    "df=pd.DataFrame(d)"
   ]
  },
  {
   "cell_type": "code",
   "execution_count": 33,
   "id": "962cdfbb-7cfd-4ea7-8eda-5696de50d983",
   "metadata": {},
   "outputs": [
    {
     "data": {
      "text/html": [
       "<div>\n",
       "<style scoped>\n",
       "    .dataframe tbody tr th:only-of-type {\n",
       "        vertical-align: middle;\n",
       "    }\n",
       "\n",
       "    .dataframe tbody tr th {\n",
       "        vertical-align: top;\n",
       "    }\n",
       "\n",
       "    .dataframe thead th {\n",
       "        text-align: right;\n",
       "    }\n",
       "</style>\n",
       "<table border=\"1\" class=\"dataframe\">\n",
       "  <thead>\n",
       "    <tr style=\"text-align: right;\">\n",
       "      <th></th>\n",
       "      <th>car_id</th>\n",
       "      <th>car_name</th>\n",
       "    </tr>\n",
       "  </thead>\n",
       "  <tbody>\n",
       "    <tr>\n",
       "      <th>0</th>\n",
       "      <td>23456</td>\n",
       "      <td>swift</td>\n",
       "    </tr>\n",
       "    <tr>\n",
       "      <th>1</th>\n",
       "      <td>7448</td>\n",
       "      <td>kiv</td>\n",
       "    </tr>\n",
       "    <tr>\n",
       "      <th>2</th>\n",
       "      <td>2345</td>\n",
       "      <td>ford</td>\n",
       "    </tr>\n",
       "    <tr>\n",
       "      <th>3</th>\n",
       "      <td>7890</td>\n",
       "      <td>BMW</td>\n",
       "    </tr>\n",
       "    <tr>\n",
       "      <th>4</th>\n",
       "      <td>5627</td>\n",
       "      <td>mg</td>\n",
       "    </tr>\n",
       "  </tbody>\n",
       "</table>\n",
       "</div>"
      ],
      "text/plain": [
       "   car_id car_name\n",
       "0   23456    swift\n",
       "1    7448      kiv\n",
       "2    2345     ford\n",
       "3    7890      BMW\n",
       "4    5627       mg"
      ]
     },
     "execution_count": 33,
     "metadata": {},
     "output_type": "execute_result"
    }
   ],
   "source": [
    "df"
   ]
  },
  {
   "cell_type": "code",
   "execution_count": 34,
   "id": "c72ffe89-c1d7-4d6b-8294-2538d54838f1",
   "metadata": {},
   "outputs": [
    {
     "name": "stdout",
     "output_type": "stream",
     "text": [
      "<class 'pandas.core.frame.DataFrame'>\n",
      "RangeIndex: 5 entries, 0 to 4\n",
      "Data columns (total 2 columns):\n",
      " #   Column    Non-Null Count  Dtype \n",
      "---  ------    --------------  ----- \n",
      " 0   car_id    5 non-null      int64 \n",
      " 1   car_name  5 non-null      object\n",
      "dtypes: int64(1), object(1)\n",
      "memory usage: 208.0+ bytes\n"
     ]
    }
   ],
   "source": [
    "df.info()"
   ]
  },
  {
   "cell_type": "code",
   "execution_count": 35,
   "id": "6347f96a-8496-42af-837f-b110a33a0602",
   "metadata": {},
   "outputs": [],
   "source": [
    "f={\"car_id\":[23456,7448,2345,7890,5627,3456],\n",
    "   \"car_name\":[\"swift\",\"kiv\",\"ford\",\"BMW\",\"MG\",None]}\n"
   ]
  },
  {
   "cell_type": "code",
   "execution_count": 36,
   "id": "e7f214da-a467-45fc-b158-43b633c54876",
   "metadata": {},
   "outputs": [],
   "source": [
    "gh=pd.DataFrame(f)"
   ]
  },
  {
   "cell_type": "code",
   "execution_count": 37,
   "id": "12cd9b50-3082-43f2-a45b-3103929b162a",
   "metadata": {},
   "outputs": [
    {
     "data": {
      "text/html": [
       "<div>\n",
       "<style scoped>\n",
       "    .dataframe tbody tr th:only-of-type {\n",
       "        vertical-align: middle;\n",
       "    }\n",
       "\n",
       "    .dataframe tbody tr th {\n",
       "        vertical-align: top;\n",
       "    }\n",
       "\n",
       "    .dataframe thead th {\n",
       "        text-align: right;\n",
       "    }\n",
       "</style>\n",
       "<table border=\"1\" class=\"dataframe\">\n",
       "  <thead>\n",
       "    <tr style=\"text-align: right;\">\n",
       "      <th></th>\n",
       "      <th>car_id</th>\n",
       "      <th>car_name</th>\n",
       "    </tr>\n",
       "  </thead>\n",
       "  <tbody>\n",
       "    <tr>\n",
       "      <th>0</th>\n",
       "      <td>23456</td>\n",
       "      <td>swift</td>\n",
       "    </tr>\n",
       "    <tr>\n",
       "      <th>1</th>\n",
       "      <td>7448</td>\n",
       "      <td>kiv</td>\n",
       "    </tr>\n",
       "    <tr>\n",
       "      <th>2</th>\n",
       "      <td>2345</td>\n",
       "      <td>ford</td>\n",
       "    </tr>\n",
       "    <tr>\n",
       "      <th>3</th>\n",
       "      <td>7890</td>\n",
       "      <td>BMW</td>\n",
       "    </tr>\n",
       "    <tr>\n",
       "      <th>4</th>\n",
       "      <td>5627</td>\n",
       "      <td>MG</td>\n",
       "    </tr>\n",
       "    <tr>\n",
       "      <th>5</th>\n",
       "      <td>3456</td>\n",
       "      <td>None</td>\n",
       "    </tr>\n",
       "  </tbody>\n",
       "</table>\n",
       "</div>"
      ],
      "text/plain": [
       "   car_id car_name\n",
       "0   23456    swift\n",
       "1    7448      kiv\n",
       "2    2345     ford\n",
       "3    7890      BMW\n",
       "4    5627       MG\n",
       "5    3456     None"
      ]
     },
     "execution_count": 37,
     "metadata": {},
     "output_type": "execute_result"
    }
   ],
   "source": [
    "gh"
   ]
  },
  {
   "cell_type": "code",
   "execution_count": 38,
   "id": "f21856ab-fdc4-4888-91c6-695d6d6eb6d9",
   "metadata": {},
   "outputs": [
    {
     "data": {
      "text/html": [
       "<div>\n",
       "<style scoped>\n",
       "    .dataframe tbody tr th:only-of-type {\n",
       "        vertical-align: middle;\n",
       "    }\n",
       "\n",
       "    .dataframe tbody tr th {\n",
       "        vertical-align: top;\n",
       "    }\n",
       "\n",
       "    .dataframe thead th {\n",
       "        text-align: right;\n",
       "    }\n",
       "</style>\n",
       "<table border=\"1\" class=\"dataframe\">\n",
       "  <thead>\n",
       "    <tr style=\"text-align: right;\">\n",
       "      <th></th>\n",
       "      <th>car_id</th>\n",
       "      <th>car_name</th>\n",
       "    </tr>\n",
       "  </thead>\n",
       "  <tbody>\n",
       "    <tr>\n",
       "      <th>0</th>\n",
       "      <td>False</td>\n",
       "      <td>False</td>\n",
       "    </tr>\n",
       "    <tr>\n",
       "      <th>1</th>\n",
       "      <td>False</td>\n",
       "      <td>False</td>\n",
       "    </tr>\n",
       "    <tr>\n",
       "      <th>2</th>\n",
       "      <td>False</td>\n",
       "      <td>False</td>\n",
       "    </tr>\n",
       "    <tr>\n",
       "      <th>3</th>\n",
       "      <td>False</td>\n",
       "      <td>False</td>\n",
       "    </tr>\n",
       "    <tr>\n",
       "      <th>4</th>\n",
       "      <td>False</td>\n",
       "      <td>False</td>\n",
       "    </tr>\n",
       "    <tr>\n",
       "      <th>5</th>\n",
       "      <td>False</td>\n",
       "      <td>True</td>\n",
       "    </tr>\n",
       "  </tbody>\n",
       "</table>\n",
       "</div>"
      ],
      "text/plain": [
       "   car_id  car_name\n",
       "0   False     False\n",
       "1   False     False\n",
       "2   False     False\n",
       "3   False     False\n",
       "4   False     False\n",
       "5   False      True"
      ]
     },
     "execution_count": 38,
     "metadata": {},
     "output_type": "execute_result"
    }
   ],
   "source": [
    "gh.isnull()"
   ]
  },
  {
   "cell_type": "code",
   "execution_count": 39,
   "id": "3a524994-41cc-4f99-82f1-9744bce1a7e5",
   "metadata": {},
   "outputs": [
    {
     "data": {
      "text/plain": [
       "car_id      2345\n",
       "car_name    ford\n",
       "Name: 2, dtype: object"
      ]
     },
     "execution_count": 39,
     "metadata": {},
     "output_type": "execute_result"
    }
   ],
   "source": [
    "gh.loc[2]"
   ]
  },
  {
   "cell_type": "code",
   "execution_count": 40,
   "id": "c7fe01cf-3cda-4937-b81e-8cbc5b673acf",
   "metadata": {},
   "outputs": [
    {
     "data": {
      "text/plain": [
       "car_id      2345\n",
       "car_name    ford\n",
       "Name: 2, dtype: object"
      ]
     },
     "execution_count": 40,
     "metadata": {},
     "output_type": "execute_result"
    }
   ],
   "source": [
    "gh.iloc[2]"
   ]
  },
  {
   "cell_type": "code",
   "execution_count": 41,
   "id": "fbc3f5a3-742a-4489-bbaa-b7d6c4df3547",
   "metadata": {},
   "outputs": [
    {
     "data": {
      "text/html": [
       "<div>\n",
       "<style scoped>\n",
       "    .dataframe tbody tr th:only-of-type {\n",
       "        vertical-align: middle;\n",
       "    }\n",
       "\n",
       "    .dataframe tbody tr th {\n",
       "        vertical-align: top;\n",
       "    }\n",
       "\n",
       "    .dataframe thead th {\n",
       "        text-align: right;\n",
       "    }\n",
       "</style>\n",
       "<table border=\"1\" class=\"dataframe\">\n",
       "  <thead>\n",
       "    <tr style=\"text-align: right;\">\n",
       "      <th></th>\n",
       "      <th>car_name</th>\n",
       "    </tr>\n",
       "    <tr>\n",
       "      <th>car_id</th>\n",
       "      <th></th>\n",
       "    </tr>\n",
       "  </thead>\n",
       "  <tbody>\n",
       "    <tr>\n",
       "      <th>23456</th>\n",
       "      <td>swift</td>\n",
       "    </tr>\n",
       "    <tr>\n",
       "      <th>7448</th>\n",
       "      <td>kiv</td>\n",
       "    </tr>\n",
       "    <tr>\n",
       "      <th>2345</th>\n",
       "      <td>ford</td>\n",
       "    </tr>\n",
       "    <tr>\n",
       "      <th>7890</th>\n",
       "      <td>BMW</td>\n",
       "    </tr>\n",
       "    <tr>\n",
       "      <th>5627</th>\n",
       "      <td>MG</td>\n",
       "    </tr>\n",
       "    <tr>\n",
       "      <th>3456</th>\n",
       "      <td>None</td>\n",
       "    </tr>\n",
       "  </tbody>\n",
       "</table>\n",
       "</div>"
      ],
      "text/plain": [
       "       car_name\n",
       "car_id         \n",
       "23456     swift\n",
       "7448        kiv\n",
       "2345       ford\n",
       "7890        BMW\n",
       "5627         MG\n",
       "3456       None"
      ]
     },
     "execution_count": 41,
     "metadata": {},
     "output_type": "execute_result"
    }
   ],
   "source": [
    "\n",
    "gh.set_index('car_id')"
   ]
  },
  {
   "cell_type": "code",
   "execution_count": 42,
   "id": "06945f3f-1be3-4621-9877-3c7fbf17daba",
   "metadata": {},
   "outputs": [
    {
     "data": {
      "text/plain": [
       "0    False\n",
       "1    False\n",
       "2     True\n",
       "3    False\n",
       "4    False\n",
       "5     True\n",
       "Name: car_id, dtype: bool"
      ]
     },
     "execution_count": 42,
     "metadata": {},
     "output_type": "execute_result"
    }
   ],
   "source": [
    "#conditional selection\n",
    "gh['car_id']<5600"
   ]
  },
  {
   "cell_type": "code",
   "execution_count": 43,
   "id": "8c772acb-723b-4b6c-b986-14ebd0951d94",
   "metadata": {},
   "outputs": [],
   "source": [
    "newdf=gh['car_id']<5600"
   ]
  },
  {
   "cell_type": "code",
   "execution_count": 44,
   "id": "daf56e50-b88b-4d44-b7b3-161215a61828",
   "metadata": {},
   "outputs": [
    {
     "data": {
      "text/plain": [
       "2    ford\n",
       "5    None\n",
       "Name: car_name, dtype: object"
      ]
     },
     "execution_count": 44,
     "metadata": {},
     "output_type": "execute_result"
    }
   ],
   "source": [
    "gh[newdf]['car_name']"
   ]
  },
  {
   "cell_type": "code",
   "execution_count": 45,
   "id": "724c7251-9a6b-419f-b67c-12d7f213fe6f",
   "metadata": {},
   "outputs": [
    {
     "data": {
      "text/plain": [
       "2    2345\n",
       "5    3456\n",
       "Name: car_id, dtype: int64"
      ]
     },
     "execution_count": 45,
     "metadata": {},
     "output_type": "execute_result"
    }
   ],
   "source": [
    "gh[newdf][\"car_id\"]"
   ]
  },
  {
   "cell_type": "code",
   "execution_count": 46,
   "id": "7c23cb43-728d-4650-9d09-c963a3dce12e",
   "metadata": {},
   "outputs": [],
   "source": [
    "d={'USN':[100,23,245],\n",
    "   'NAME':['NIKI','HARSISHA','ASH'],\n",
    "   'MOBLIE':[24,45,67],\n",
    "   'MARKS':[88,99,\"none\"]\n",
    "  }\n",
    "   "
   ]
  },
  {
   "cell_type": "code",
   "execution_count": 47,
   "id": "33f5505e-93b5-47a1-8c6a-857f9a6d45f7",
   "metadata": {},
   "outputs": [],
   "source": [
    "jk=pandas.DataFrame(d)"
   ]
  },
  {
   "cell_type": "code",
   "execution_count": 48,
   "id": "0863f5cd-8d4d-40cf-a574-e2f7e13a97f1",
   "metadata": {},
   "outputs": [
    {
     "data": {
      "text/html": [
       "<div>\n",
       "<style scoped>\n",
       "    .dataframe tbody tr th:only-of-type {\n",
       "        vertical-align: middle;\n",
       "    }\n",
       "\n",
       "    .dataframe tbody tr th {\n",
       "        vertical-align: top;\n",
       "    }\n",
       "\n",
       "    .dataframe thead th {\n",
       "        text-align: right;\n",
       "    }\n",
       "</style>\n",
       "<table border=\"1\" class=\"dataframe\">\n",
       "  <thead>\n",
       "    <tr style=\"text-align: right;\">\n",
       "      <th></th>\n",
       "      <th>USN</th>\n",
       "      <th>NAME</th>\n",
       "      <th>MOBLIE</th>\n",
       "      <th>MARKS</th>\n",
       "    </tr>\n",
       "  </thead>\n",
       "  <tbody>\n",
       "    <tr>\n",
       "      <th>0</th>\n",
       "      <td>100</td>\n",
       "      <td>NIKI</td>\n",
       "      <td>24</td>\n",
       "      <td>88</td>\n",
       "    </tr>\n",
       "    <tr>\n",
       "      <th>1</th>\n",
       "      <td>23</td>\n",
       "      <td>HARSISHA</td>\n",
       "      <td>45</td>\n",
       "      <td>99</td>\n",
       "    </tr>\n",
       "    <tr>\n",
       "      <th>2</th>\n",
       "      <td>245</td>\n",
       "      <td>ASH</td>\n",
       "      <td>67</td>\n",
       "      <td>none</td>\n",
       "    </tr>\n",
       "  </tbody>\n",
       "</table>\n",
       "</div>"
      ],
      "text/plain": [
       "   USN      NAME  MOBLIE MARKS\n",
       "0  100      NIKI      24    88\n",
       "1   23  HARSISHA      45    99\n",
       "2  245       ASH      67  none"
      ]
     },
     "execution_count": 48,
     "metadata": {},
     "output_type": "execute_result"
    }
   ],
   "source": [
    "jk"
   ]
  },
  {
   "cell_type": "code",
   "execution_count": 55,
   "id": "2fccb6be-ce7a-454f-ba36-30bbe5faf12e",
   "metadata": {},
   "outputs": [],
   "source": [
    "import  pandas as pd"
   ]
  },
  {
   "cell_type": "code",
   "execution_count": 56,
   "id": "e00e7a7f-ce1d-442f-b1db-8cb1087ba8b7",
   "metadata": {},
   "outputs": [],
   "source": [
    "d={'USN':[100,23,245],\n",
    "   'NAME':['NIKI','HARSISHA','ASH'],\n",
    "   'MOBLIE':[24,45,67],\n",
    "   'MARKS':[88,99,56]\n",
    "  }"
   ]
  },
  {
   "cell_type": "code",
   "execution_count": 60,
   "id": "4c6318c2-5604-4f55-890d-73e6bf44c70d",
   "metadata": {},
   "outputs": [],
   "source": [
    "df=pd.DataFrame(d)"
   ]
  },
  {
   "cell_type": "code",
   "execution_count": 61,
   "id": "4675d7ca-a42b-4b02-90fe-b1213d642bc0",
   "metadata": {},
   "outputs": [
    {
     "data": {
      "text/plain": [
       "[0     True\n",
       " 1    False\n",
       " 2     True\n",
       " dtype: bool]"
      ]
     },
     "execution_count": 61,
     "metadata": {},
     "output_type": "execute_result"
    }
   ],
   "source": [
    "[(df['USN']>40)&(df['MARKS']>50)]"
   ]
  },
  {
   "cell_type": "code",
   "execution_count": 50,
   "id": "2e0c0ad4-34c0-4178-86ca-011502f07c5e",
   "metadata": {},
   "outputs": [
    {
     "data": {
      "text/html": [
       "<div>\n",
       "<style scoped>\n",
       "    .dataframe tbody tr th:only-of-type {\n",
       "        vertical-align: middle;\n",
       "    }\n",
       "\n",
       "    .dataframe tbody tr th {\n",
       "        vertical-align: top;\n",
       "    }\n",
       "\n",
       "    .dataframe thead th {\n",
       "        text-align: right;\n",
       "    }\n",
       "</style>\n",
       "<table border=\"1\" class=\"dataframe\">\n",
       "  <thead>\n",
       "    <tr style=\"text-align: right;\">\n",
       "      <th></th>\n",
       "      <th>USN</th>\n",
       "      <th>NAME</th>\n",
       "      <th>MOBLIE</th>\n",
       "      <th>MARKS</th>\n",
       "    </tr>\n",
       "  </thead>\n",
       "  <tbody>\n",
       "    <tr>\n",
       "      <th>0</th>\n",
       "      <td>100</td>\n",
       "      <td>NIKI</td>\n",
       "      <td>24</td>\n",
       "      <td>88</td>\n",
       "    </tr>\n",
       "    <tr>\n",
       "      <th>1</th>\n",
       "      <td>23</td>\n",
       "      <td>HARSISHA</td>\n",
       "      <td>45</td>\n",
       "      <td>99</td>\n",
       "    </tr>\n",
       "    <tr>\n",
       "      <th>2</th>\n",
       "      <td>245</td>\n",
       "      <td>ASH</td>\n",
       "      <td>67</td>\n",
       "      <td>none</td>\n",
       "    </tr>\n",
       "  </tbody>\n",
       "</table>\n",
       "</div>"
      ],
      "text/plain": [
       "   USN      NAME  MOBLIE MARKS\n",
       "0  100      NIKI      24    88\n",
       "1   23  HARSISHA      45    99\n",
       "2  245       ASH      67  none"
      ]
     },
     "execution_count": 50,
     "metadata": {},
     "output_type": "execute_result"
    }
   ],
   "source": [
    "jk"
   ]
  },
  {
   "cell_type": "code",
   "execution_count": 98,
   "id": "d001bcba-139d-46e8-8e76-4f210af20e8f",
   "metadata": {},
   "outputs": [
    {
     "data": {
      "text/html": [
       "<div>\n",
       "<style scoped>\n",
       "    .dataframe tbody tr th:only-of-type {\n",
       "        vertical-align: middle;\n",
       "    }\n",
       "\n",
       "    .dataframe tbody tr th {\n",
       "        vertical-align: top;\n",
       "    }\n",
       "\n",
       "    .dataframe thead th {\n",
       "        text-align: right;\n",
       "    }\n",
       "</style>\n",
       "<table border=\"1\" class=\"dataframe\">\n",
       "  <thead>\n",
       "    <tr style=\"text-align: right;\">\n",
       "      <th></th>\n",
       "      <th>USN</th>\n",
       "      <th>NAME</th>\n",
       "      <th>MOBLIE</th>\n",
       "      <th>MARKS</th>\n",
       "    </tr>\n",
       "  </thead>\n",
       "  <tbody>\n",
       "    <tr>\n",
       "      <th>0</th>\n",
       "      <td>100</td>\n",
       "      <td>NIKI</td>\n",
       "      <td>24</td>\n",
       "      <td>88</td>\n",
       "    </tr>\n",
       "    <tr>\n",
       "      <th>1</th>\n",
       "      <td>23</td>\n",
       "      <td>HARSISHA</td>\n",
       "      <td>45</td>\n",
       "      <td>99</td>\n",
       "    </tr>\n",
       "    <tr>\n",
       "      <th>2</th>\n",
       "      <td>245</td>\n",
       "      <td>ASH</td>\n",
       "      <td>67</td>\n",
       "      <td>none</td>\n",
       "    </tr>\n",
       "  </tbody>\n",
       "</table>\n",
       "</div>"
      ],
      "text/plain": [
       "   USN      NAME  MOBLIE MARKS\n",
       "0  100      NIKI      24    88\n",
       "1   23  HARSISHA      45    99\n",
       "2  245       ASH      67  none"
      ]
     },
     "execution_count": 98,
     "metadata": {},
     "output_type": "execute_result"
    }
   ],
   "source": [
    "jk.dropna()"
   ]
  },
  {
   "cell_type": "code",
   "execution_count": 99,
   "id": "3fcf0670-c711-45d3-81e0-410981be8c6b",
   "metadata": {},
   "outputs": [],
   "source": [
    "f={\"car_id\":[23456,7448,2345,7890,5627,3456],\n",
    "   \"car_name\":[\"swift\",\"kiv\",\"ford\",\"BMW\",\"MG\",None]}\n"
   ]
  },
  {
   "cell_type": "code",
   "execution_count": 101,
   "id": "c8d9fef9-1ff0-4bec-8dca-793e6e5da5a8",
   "metadata": {},
   "outputs": [],
   "source": [
    "df=pd.DataFrame(f)"
   ]
  },
  {
   "cell_type": "code",
   "execution_count": 102,
   "id": "43319d88-423b-4c7e-8371-a2b34b6bf81f",
   "metadata": {},
   "outputs": [
    {
     "data": {
      "text/html": [
       "<div>\n",
       "<style scoped>\n",
       "    .dataframe tbody tr th:only-of-type {\n",
       "        vertical-align: middle;\n",
       "    }\n",
       "\n",
       "    .dataframe tbody tr th {\n",
       "        vertical-align: top;\n",
       "    }\n",
       "\n",
       "    .dataframe thead th {\n",
       "        text-align: right;\n",
       "    }\n",
       "</style>\n",
       "<table border=\"1\" class=\"dataframe\">\n",
       "  <thead>\n",
       "    <tr style=\"text-align: right;\">\n",
       "      <th></th>\n",
       "      <th>car_id</th>\n",
       "      <th>car_name</th>\n",
       "    </tr>\n",
       "  </thead>\n",
       "  <tbody>\n",
       "    <tr>\n",
       "      <th>0</th>\n",
       "      <td>23456</td>\n",
       "      <td>swift</td>\n",
       "    </tr>\n",
       "    <tr>\n",
       "      <th>1</th>\n",
       "      <td>7448</td>\n",
       "      <td>kiv</td>\n",
       "    </tr>\n",
       "    <tr>\n",
       "      <th>2</th>\n",
       "      <td>2345</td>\n",
       "      <td>ford</td>\n",
       "    </tr>\n",
       "    <tr>\n",
       "      <th>3</th>\n",
       "      <td>7890</td>\n",
       "      <td>BMW</td>\n",
       "    </tr>\n",
       "    <tr>\n",
       "      <th>4</th>\n",
       "      <td>5627</td>\n",
       "      <td>MG</td>\n",
       "    </tr>\n",
       "    <tr>\n",
       "      <th>5</th>\n",
       "      <td>3456</td>\n",
       "      <td>None</td>\n",
       "    </tr>\n",
       "  </tbody>\n",
       "</table>\n",
       "</div>"
      ],
      "text/plain": [
       "   car_id car_name\n",
       "0   23456    swift\n",
       "1    7448      kiv\n",
       "2    2345     ford\n",
       "3    7890      BMW\n",
       "4    5627       MG\n",
       "5    3456     None"
      ]
     },
     "execution_count": 102,
     "metadata": {},
     "output_type": "execute_result"
    }
   ],
   "source": [
    "df"
   ]
  },
  {
   "cell_type": "code",
   "execution_count": 103,
   "id": "c3531c71-9084-41f5-99b1-de5dacd16f4b",
   "metadata": {},
   "outputs": [
    {
     "data": {
      "text/html": [
       "<div>\n",
       "<style scoped>\n",
       "    .dataframe tbody tr th:only-of-type {\n",
       "        vertical-align: middle;\n",
       "    }\n",
       "\n",
       "    .dataframe tbody tr th {\n",
       "        vertical-align: top;\n",
       "    }\n",
       "\n",
       "    .dataframe thead th {\n",
       "        text-align: right;\n",
       "    }\n",
       "</style>\n",
       "<table border=\"1\" class=\"dataframe\">\n",
       "  <thead>\n",
       "    <tr style=\"text-align: right;\">\n",
       "      <th></th>\n",
       "      <th>car_id</th>\n",
       "      <th>car_name</th>\n",
       "    </tr>\n",
       "  </thead>\n",
       "  <tbody>\n",
       "    <tr>\n",
       "      <th>0</th>\n",
       "      <td>23456</td>\n",
       "      <td>swift</td>\n",
       "    </tr>\n",
       "    <tr>\n",
       "      <th>1</th>\n",
       "      <td>7448</td>\n",
       "      <td>kiv</td>\n",
       "    </tr>\n",
       "    <tr>\n",
       "      <th>2</th>\n",
       "      <td>2345</td>\n",
       "      <td>ford</td>\n",
       "    </tr>\n",
       "    <tr>\n",
       "      <th>3</th>\n",
       "      <td>7890</td>\n",
       "      <td>BMW</td>\n",
       "    </tr>\n",
       "    <tr>\n",
       "      <th>4</th>\n",
       "      <td>5627</td>\n",
       "      <td>MG</td>\n",
       "    </tr>\n",
       "  </tbody>\n",
       "</table>\n",
       "</div>"
      ],
      "text/plain": [
       "   car_id car_name\n",
       "0   23456    swift\n",
       "1    7448      kiv\n",
       "2    2345     ford\n",
       "3    7890      BMW\n",
       "4    5627       MG"
      ]
     },
     "execution_count": 103,
     "metadata": {},
     "output_type": "execute_result"
    }
   ],
   "source": [
    "df.dropna()"
   ]
  },
  {
   "cell_type": "code",
   "execution_count": 109,
   "id": "13bfb44d-8772-4bf5-9965-407359f328de",
   "metadata": {},
   "outputs": [
    {
     "data": {
      "text/html": [
       "<div>\n",
       "<style scoped>\n",
       "    .dataframe tbody tr th:only-of-type {\n",
       "        vertical-align: middle;\n",
       "    }\n",
       "\n",
       "    .dataframe tbody tr th {\n",
       "        vertical-align: top;\n",
       "    }\n",
       "\n",
       "    .dataframe thead th {\n",
       "        text-align: right;\n",
       "    }\n",
       "</style>\n",
       "<table border=\"1\" class=\"dataframe\">\n",
       "  <thead>\n",
       "    <tr style=\"text-align: right;\">\n",
       "      <th></th>\n",
       "      <th>car_id</th>\n",
       "      <th>car_name</th>\n",
       "    </tr>\n",
       "  </thead>\n",
       "  <tbody>\n",
       "  </tbody>\n",
       "</table>\n",
       "</div>"
      ],
      "text/plain": [
       "Empty DataFrame\n",
       "Columns: [car_id, car_name]\n",
       "Index: []"
      ]
     },
     "execution_count": 109,
     "metadata": {},
     "output_type": "execute_result"
    }
   ],
   "source": [
    "df.dropna(thresh=3)"
   ]
  },
  {
   "cell_type": "code",
   "execution_count": 3,
   "id": "5be05ad7-0622-4266-902b-574152b21692",
   "metadata": {},
   "outputs": [],
   "source": [
    "import pandas"
   ]
  },
  {
   "cell_type": "code",
   "execution_count": 4,
   "id": "9a34b94e-2380-44e6-bbd5-992faf5b757d",
   "metadata": {},
   "outputs": [],
   "source": [
    "d={\"car_id\":[23456,7448,2345,7890,5627],\n",
    "   \"car_name\":[\"swift\",\"kiv\",\"ford\",\"BMW\",\"mg\"]}"
   ]
  },
  {
   "cell_type": "code",
   "execution_count": 5,
   "id": "f1b529ea-70e7-4ea6-8c0a-f1409da86e6d",
   "metadata": {},
   "outputs": [],
   "source": [
    "df=pandas.DataFrame(d)"
   ]
  },
  {
   "cell_type": "code",
   "execution_count": 6,
   "id": "b16049b8-5fc1-47df-af3c-db0bcb1c8f1e",
   "metadata": {},
   "outputs": [
    {
     "data": {
      "text/html": [
       "<div>\n",
       "<style scoped>\n",
       "    .dataframe tbody tr th:only-of-type {\n",
       "        vertical-align: middle;\n",
       "    }\n",
       "\n",
       "    .dataframe tbody tr th {\n",
       "        vertical-align: top;\n",
       "    }\n",
       "\n",
       "    .dataframe thead th {\n",
       "        text-align: right;\n",
       "    }\n",
       "</style>\n",
       "<table border=\"1\" class=\"dataframe\">\n",
       "  <thead>\n",
       "    <tr style=\"text-align: right;\">\n",
       "      <th></th>\n",
       "      <th>car_id</th>\n",
       "      <th>car_name</th>\n",
       "    </tr>\n",
       "  </thead>\n",
       "  <tbody>\n",
       "    <tr>\n",
       "      <th>0</th>\n",
       "      <td>23456</td>\n",
       "      <td>swift</td>\n",
       "    </tr>\n",
       "    <tr>\n",
       "      <th>1</th>\n",
       "      <td>7448</td>\n",
       "      <td>kiv</td>\n",
       "    </tr>\n",
       "    <tr>\n",
       "      <th>2</th>\n",
       "      <td>2345</td>\n",
       "      <td>ford</td>\n",
       "    </tr>\n",
       "    <tr>\n",
       "      <th>3</th>\n",
       "      <td>7890</td>\n",
       "      <td>BMW</td>\n",
       "    </tr>\n",
       "    <tr>\n",
       "      <th>4</th>\n",
       "      <td>5627</td>\n",
       "      <td>mg</td>\n",
       "    </tr>\n",
       "  </tbody>\n",
       "</table>\n",
       "</div>"
      ],
      "text/plain": [
       "   car_id car_name\n",
       "0   23456    swift\n",
       "1    7448      kiv\n",
       "2    2345     ford\n",
       "3    7890      BMW\n",
       "4    5627       mg"
      ]
     },
     "execution_count": 6,
     "metadata": {},
     "output_type": "execute_result"
    }
   ],
   "source": [
    "df.dropna(thresh=2)"
   ]
  },
  {
   "cell_type": "code",
   "execution_count": null,
   "id": "e50da2b4-5b01-4219-a29c-86c27553e5fa",
   "metadata": {},
   "outputs": [],
   "source": []
  }
 ],
 "metadata": {
  "kernelspec": {
   "display_name": "Python 3 (ipykernel)",
   "language": "python",
   "name": "python3"
  },
  "language_info": {
   "codemirror_mode": {
    "name": "ipython",
    "version": 3
   },
   "file_extension": ".py",
   "mimetype": "text/x-python",
   "name": "python",
   "nbconvert_exporter": "python",
   "pygments_lexer": "ipython3",
   "version": "3.9.12"
  }
 },
 "nbformat": 4,
 "nbformat_minor": 5
}
