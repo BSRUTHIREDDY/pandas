{
 "cells": [
  {
   "cell_type": "code",
   "execution_count": 1,
   "id": "0b57bdf8",
   "metadata": {},
   "outputs": [
    {
     "name": "stdout",
     "output_type": "stream",
     "text": [
      "Welcome to the Love Calculator!\n"
     ]
    },
    {
     "name": "stdin",
     "output_type": "stream",
     "text": [
      "What is your name? \n",
      " shruthy\n",
      "What is their name? \n",
      " yogendra\n"
     ]
    },
    {
     "name": "stdout",
     "output_type": "stream",
     "text": [
      "Your score is {Love_Score}.\n",
      "Your score is {Love_Score}.\n"
     ]
    }
   ],
   "source": [
    "print(\"Welcome to the Love Calculator!\")\n",
    "name1 = input(\"What is your name? \\n\")\n",
    "name2 = input(\"What is their name? \\n\")\n",
    "# 🚨 Don't change the code above 👆\n",
    "combine_string = name1 + name2\n",
    "lower_case_string = combine_string.lower()\n",
    "t=lower_case_string.count(\"t\")\n",
    "r=lower_case_string.count(\"r\")\n",
    "u=lower_case_string.count(\"u\")\n",
    "e=lower_case_string.count(\"e\")\n",
    "total1=t+r+u+e\n",
    "l=lower_case_string.count(\"l\")\n",
    "o=lower_case_string.count(\"o\")\n",
    "v=lower_case_string.count(\"v\")\n",
    "e=lower_case_string.count(\"e\")\n",
    "total2=l+o+v+e\n",
    "Love_Score=int(str(total1)+str(total2))\n",
    "print(\"Your score is {Love_Score}.\")\n",
    "if (Love_Score<10)or(Love_Score>90):\n",
    "    print(\"Your score is {Love_Score},you go together like coke and mentos.\")\n",
    "elif 40<Love_Score<50:\n",
    "    print(\"Your score is {Love_Score},you are alright together.\")\n",
    "else :\n",
    "    print(\"Your score is {Love_Score}.\")\n",
    "#Write your code below this line 👇\n"
   ]
  },
  {
   "cell_type": "code",
   "execution_count": null,
   "id": "994ee0b0",
   "metadata": {},
   "outputs": [],
   "source": []
  }
 ],
 "metadata": {
  "kernelspec": {
   "display_name": "Python 3 (ipykernel)",
   "language": "python",
   "name": "python3"
  },
  "language_info": {
   "codemirror_mode": {
    "name": "ipython",
    "version": 3
   },
   "file_extension": ".py",
   "mimetype": "text/x-python",
   "name": "python",
   "nbconvert_exporter": "python",
   "pygments_lexer": "ipython3",
   "version": "3.9.12"
  }
 },
 "nbformat": 4,
 "nbformat_minor": 5
}
