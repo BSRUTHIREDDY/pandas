{
 "cells": [
  {
   "cell_type": "code",
   "execution_count": 7,
   "id": "b7cc9bad-9a8d-424c-8f93-50d9ff6b78cf",
   "metadata": {},
   "outputs": [],
   "source": [
    "import pandas as pd\n",
    "import numpy as np\n"
   ]
  },
  {
   "cell_type": "code",
   "execution_count": 33,
   "id": "018002fc-42a9-485d-831b-5a33ff053fd5",
   "metadata": {},
   "outputs": [],
   "source": [
    "import os\n",
    "import seaborn as sns\n",
    "from matplotlib import pyplot as plt"
   ]
  },
  {
   "cell_type": "code",
   "execution_count": null,
   "id": "4b74e1d3-da8a-4550-ab92-d592e5ec539b",
   "metadata": {},
   "outputs": [],
   "source": [
    "# data collection"
   ]
  },
  {
   "cell_type": "code",
   "execution_count": 9,
   "id": "a11c09e7-cc1e-4766-8724-70aedd125c39",
   "metadata": {},
   "outputs": [
    {
     "data": {
      "text/html": [
       "<div>\n",
       "<style scoped>\n",
       "    .dataframe tbody tr th:only-of-type {\n",
       "        vertical-align: middle;\n",
       "    }\n",
       "\n",
       "    .dataframe tbody tr th {\n",
       "        vertical-align: top;\n",
       "    }\n",
       "\n",
       "    .dataframe thead th {\n",
       "        text-align: right;\n",
       "    }\n",
       "</style>\n",
       "<table border=\"1\" class=\"dataframe\">\n",
       "  <thead>\n",
       "    <tr style=\"text-align: right;\">\n",
       "      <th></th>\n",
       "      <th>usn</th>\n",
       "      <th>name</th>\n",
       "      <th>age</th>\n",
       "      <th>attendence</th>\n",
       "      <th>assignmets marks</th>\n",
       "      <th>IA-1</th>\n",
       "    </tr>\n",
       "  </thead>\n",
       "  <tbody>\n",
       "    <tr>\n",
       "      <th>0</th>\n",
       "      <td>1</td>\n",
       "      <td>shruthy</td>\n",
       "      <td>20.0</td>\n",
       "      <td>30.0</td>\n",
       "      <td>20.0</td>\n",
       "      <td>30.0</td>\n",
       "    </tr>\n",
       "    <tr>\n",
       "      <th>1</th>\n",
       "      <td>2</td>\n",
       "      <td>gali</td>\n",
       "      <td>19.0</td>\n",
       "      <td>NaN</td>\n",
       "      <td>25.0</td>\n",
       "      <td>45.0</td>\n",
       "    </tr>\n",
       "    <tr>\n",
       "      <th>2</th>\n",
       "      <td>2</td>\n",
       "      <td>sai</td>\n",
       "      <td>18.0</td>\n",
       "      <td>75.0</td>\n",
       "      <td>NaN</td>\n",
       "      <td>35.0</td>\n",
       "    </tr>\n",
       "    <tr>\n",
       "      <th>3</th>\n",
       "      <td>4</td>\n",
       "      <td>tinku</td>\n",
       "      <td>NaN</td>\n",
       "      <td>45.0</td>\n",
       "      <td>30.0</td>\n",
       "      <td>NaN</td>\n",
       "    </tr>\n",
       "    <tr>\n",
       "      <th>4</th>\n",
       "      <td>5</td>\n",
       "      <td>ash</td>\n",
       "      <td>19.0</td>\n",
       "      <td>65.0</td>\n",
       "      <td>10.0</td>\n",
       "      <td>45.0</td>\n",
       "    </tr>\n",
       "    <tr>\n",
       "      <th>5</th>\n",
       "      <td>6</td>\n",
       "      <td>niki</td>\n",
       "      <td>20.0</td>\n",
       "      <td>20.0</td>\n",
       "      <td>5.0</td>\n",
       "      <td>10.0</td>\n",
       "    </tr>\n",
       "    <tr>\n",
       "      <th>6</th>\n",
       "      <td>4</td>\n",
       "      <td>tinku</td>\n",
       "      <td>NaN</td>\n",
       "      <td>45.0</td>\n",
       "      <td>30.0</td>\n",
       "      <td>NaN</td>\n",
       "    </tr>\n",
       "  </tbody>\n",
       "</table>\n",
       "</div>"
      ],
      "text/plain": [
       "   usn     name   age  attendence  assignmets marks  IA-1\n",
       "0    1  shruthy  20.0        30.0              20.0  30.0\n",
       "1    2     gali  19.0         NaN              25.0  45.0\n",
       "2    2      sai  18.0        75.0               NaN  35.0\n",
       "3    4    tinku   NaN        45.0              30.0   NaN\n",
       "4    5      ash  19.0        65.0              10.0  45.0\n",
       "5    6     niki  20.0        20.0               5.0  10.0\n",
       "6    4    tinku   NaN        45.0              30.0   NaN"
      ]
     },
     "execution_count": 9,
     "metadata": {},
     "output_type": "execute_result"
    }
   ],
   "source": [
    "df=pd.read_csv(r\"carstone.csv\")\n",
    "df\n"
   ]
  },
  {
   "cell_type": "code",
   "execution_count": null,
   "id": "5ead8e60-85c8-4028-a95a-d6e7b43c2e21",
   "metadata": {},
   "outputs": [],
   "source": [
    "#data cleaning"
   ]
  },
  {
   "cell_type": "code",
   "execution_count": 14,
   "id": "9ebc16f8-cf47-4adf-b46f-44dbcf994795",
   "metadata": {},
   "outputs": [
    {
     "data": {
      "text/plain": [
       "True"
      ]
     },
     "execution_count": 14,
     "metadata": {},
     "output_type": "execute_result"
    }
   ],
   "source": [
    "#check for duplicate data\n",
    "g=df.duplicated().any()\n",
    "g"
   ]
  },
  {
   "cell_type": "code",
   "execution_count": 32,
   "id": "5e33a9f7-bf02-45b3-b7df-76800e488339",
   "metadata": {},
   "outputs": [
    {
     "name": "stdout",
     "output_type": "stream",
     "text": [
      "   usn     name   age  attendence  assignmets marks  IA-1  encode\n",
      "0    1  shruthy  20.0        30.0              20.0  30.0     1.0\n",
      "1    2     gali  19.0         NaN              25.0  45.0     NaN\n",
      "2    2      sai  18.0        75.0               NaN  35.0     4.0\n",
      "3    4    tinku   NaN        45.0              30.0   NaN     2.0\n",
      "4    5      ash  19.0        65.0              10.0  45.0     3.0\n",
      "5    6     niki  20.0        20.0               5.0  10.0     0.0\n"
     ]
    }
   ],
   "source": [
    "#deleting duplicate values\n",
    "f=df.drop_duplicates()\n",
    "print(f)"
   ]
  },
  {
   "cell_type": "code",
   "execution_count": 24,
   "id": "8150eaf1-363e-4a19-b562-c303deef0ad6",
   "metadata": {},
   "outputs": [
    {
     "data": {
      "text/html": [
       "<div>\n",
       "<style scoped>\n",
       "    .dataframe tbody tr th:only-of-type {\n",
       "        vertical-align: middle;\n",
       "    }\n",
       "\n",
       "    .dataframe tbody tr th {\n",
       "        vertical-align: top;\n",
       "    }\n",
       "\n",
       "    .dataframe thead th {\n",
       "        text-align: right;\n",
       "    }\n",
       "</style>\n",
       "<table border=\"1\" class=\"dataframe\">\n",
       "  <thead>\n",
       "    <tr style=\"text-align: right;\">\n",
       "      <th></th>\n",
       "      <th>usn</th>\n",
       "      <th>name</th>\n",
       "      <th>age</th>\n",
       "      <th>attendence</th>\n",
       "      <th>assignmets marks</th>\n",
       "      <th>IA-1</th>\n",
       "    </tr>\n",
       "  </thead>\n",
       "  <tbody>\n",
       "    <tr>\n",
       "      <th>0</th>\n",
       "      <td>False</td>\n",
       "      <td>False</td>\n",
       "      <td>False</td>\n",
       "      <td>False</td>\n",
       "      <td>False</td>\n",
       "      <td>False</td>\n",
       "    </tr>\n",
       "    <tr>\n",
       "      <th>1</th>\n",
       "      <td>False</td>\n",
       "      <td>False</td>\n",
       "      <td>False</td>\n",
       "      <td>True</td>\n",
       "      <td>False</td>\n",
       "      <td>False</td>\n",
       "    </tr>\n",
       "    <tr>\n",
       "      <th>2</th>\n",
       "      <td>False</td>\n",
       "      <td>False</td>\n",
       "      <td>False</td>\n",
       "      <td>False</td>\n",
       "      <td>True</td>\n",
       "      <td>False</td>\n",
       "    </tr>\n",
       "    <tr>\n",
       "      <th>3</th>\n",
       "      <td>False</td>\n",
       "      <td>False</td>\n",
       "      <td>True</td>\n",
       "      <td>False</td>\n",
       "      <td>False</td>\n",
       "      <td>True</td>\n",
       "    </tr>\n",
       "    <tr>\n",
       "      <th>4</th>\n",
       "      <td>False</td>\n",
       "      <td>False</td>\n",
       "      <td>False</td>\n",
       "      <td>False</td>\n",
       "      <td>False</td>\n",
       "      <td>False</td>\n",
       "    </tr>\n",
       "    <tr>\n",
       "      <th>5</th>\n",
       "      <td>False</td>\n",
       "      <td>False</td>\n",
       "      <td>False</td>\n",
       "      <td>False</td>\n",
       "      <td>False</td>\n",
       "      <td>False</td>\n",
       "    </tr>\n",
       "    <tr>\n",
       "      <th>6</th>\n",
       "      <td>False</td>\n",
       "      <td>False</td>\n",
       "      <td>True</td>\n",
       "      <td>False</td>\n",
       "      <td>False</td>\n",
       "      <td>True</td>\n",
       "    </tr>\n",
       "  </tbody>\n",
       "</table>\n",
       "</div>"
      ],
      "text/plain": [
       "     usn   name    age  attendence  assignmets marks   IA-1\n",
       "0  False  False  False       False             False  False\n",
       "1  False  False  False        True             False  False\n",
       "2  False  False  False       False              True  False\n",
       "3  False  False   True       False             False   True\n",
       "4  False  False  False       False             False  False\n",
       "5  False  False  False       False             False  False\n",
       "6  False  False   True       False             False   True"
      ]
     },
     "execution_count": 24,
     "metadata": {},
     "output_type": "execute_result"
    }
   ],
   "source": [
    "#to check missing values\n",
    "df.isnull()"
   ]
  },
  {
   "cell_type": "code",
   "execution_count": 25,
   "id": "40d4e364-af5e-441f-ad8f-430bd8b34221",
   "metadata": {},
   "outputs": [
    {
     "data": {
      "text/plain": [
       "usn                 0\n",
       "name                0\n",
       "age                 2\n",
       "attendence          1\n",
       "assignmets marks    1\n",
       "IA-1                2\n",
       "dtype: int64"
      ]
     },
     "execution_count": 25,
     "metadata": {},
     "output_type": "execute_result"
    }
   ],
   "source": [
    "#descibes no of null vales in each row\n",
    "df.isnull().sum()"
   ]
  },
  {
   "cell_type": "code",
   "execution_count": 26,
   "id": "36ac738f-946c-483f-be63-93c24b40f664",
   "metadata": {},
   "outputs": [
    {
     "data": {
      "text/html": [
       "<div>\n",
       "<style scoped>\n",
       "    .dataframe tbody tr th:only-of-type {\n",
       "        vertical-align: middle;\n",
       "    }\n",
       "\n",
       "    .dataframe tbody tr th {\n",
       "        vertical-align: top;\n",
       "    }\n",
       "\n",
       "    .dataframe thead th {\n",
       "        text-align: right;\n",
       "    }\n",
       "</style>\n",
       "<table border=\"1\" class=\"dataframe\">\n",
       "  <thead>\n",
       "    <tr style=\"text-align: right;\">\n",
       "      <th></th>\n",
       "      <th>usn</th>\n",
       "      <th>name</th>\n",
       "      <th>age</th>\n",
       "      <th>attendence</th>\n",
       "      <th>assignmets marks</th>\n",
       "      <th>IA-1</th>\n",
       "    </tr>\n",
       "  </thead>\n",
       "  <tbody>\n",
       "    <tr>\n",
       "      <th>0</th>\n",
       "      <td>1</td>\n",
       "      <td>shruthy</td>\n",
       "      <td>20.0</td>\n",
       "      <td>30.0</td>\n",
       "      <td>20.0</td>\n",
       "      <td>30.0</td>\n",
       "    </tr>\n",
       "    <tr>\n",
       "      <th>4</th>\n",
       "      <td>5</td>\n",
       "      <td>ash</td>\n",
       "      <td>19.0</td>\n",
       "      <td>65.0</td>\n",
       "      <td>10.0</td>\n",
       "      <td>45.0</td>\n",
       "    </tr>\n",
       "    <tr>\n",
       "      <th>5</th>\n",
       "      <td>6</td>\n",
       "      <td>niki</td>\n",
       "      <td>20.0</td>\n",
       "      <td>20.0</td>\n",
       "      <td>5.0</td>\n",
       "      <td>10.0</td>\n",
       "    </tr>\n",
       "  </tbody>\n",
       "</table>\n",
       "</div>"
      ],
      "text/plain": [
       "   usn     name   age  attendence  assignmets marks  IA-1\n",
       "0    1  shruthy  20.0        30.0              20.0  30.0\n",
       "4    5      ash  19.0        65.0              10.0  45.0\n",
       "5    6     niki  20.0        20.0               5.0  10.0"
      ]
     },
     "execution_count": 26,
     "metadata": {},
     "output_type": "execute_result"
    }
   ],
   "source": [
    "#delecting rows which contains missing value\n",
    "df.dropna()"
   ]
  },
  {
   "cell_type": "code",
   "execution_count": 31,
   "id": "454bb6e0-a3f1-48e1-8490-cb5928648bb1",
   "metadata": {},
   "outputs": [
    {
     "name": "stderr",
     "output_type": "stream",
     "text": [
      "C:\\Users\\User\\AppData\\Local\\Temp\\ipykernel_9788\\634187881.py:1: FutureWarning: Dropping of nuisance columns in DataFrame reductions (with 'numeric_only=None') is deprecated; in a future version this will raise TypeError.  Select only valid columns before calling the reduction.\n",
      "  df.fillna(df.mean())\n"
     ]
    },
    {
     "data": {
      "text/html": [
       "<div>\n",
       "<style scoped>\n",
       "    .dataframe tbody tr th:only-of-type {\n",
       "        vertical-align: middle;\n",
       "    }\n",
       "\n",
       "    .dataframe tbody tr th {\n",
       "        vertical-align: top;\n",
       "    }\n",
       "\n",
       "    .dataframe thead th {\n",
       "        text-align: right;\n",
       "    }\n",
       "</style>\n",
       "<table border=\"1\" class=\"dataframe\">\n",
       "  <thead>\n",
       "    <tr style=\"text-align: right;\">\n",
       "      <th></th>\n",
       "      <th>usn</th>\n",
       "      <th>name</th>\n",
       "      <th>age</th>\n",
       "      <th>attendence</th>\n",
       "      <th>assignmets marks</th>\n",
       "      <th>IA-1</th>\n",
       "    </tr>\n",
       "  </thead>\n",
       "  <tbody>\n",
       "    <tr>\n",
       "      <th>0</th>\n",
       "      <td>1</td>\n",
       "      <td>shruthy</td>\n",
       "      <td>20.0</td>\n",
       "      <td>30.000000</td>\n",
       "      <td>20.0</td>\n",
       "      <td>30.0</td>\n",
       "    </tr>\n",
       "    <tr>\n",
       "      <th>1</th>\n",
       "      <td>2</td>\n",
       "      <td>gali</td>\n",
       "      <td>19.0</td>\n",
       "      <td>46.666667</td>\n",
       "      <td>25.0</td>\n",
       "      <td>45.0</td>\n",
       "    </tr>\n",
       "    <tr>\n",
       "      <th>2</th>\n",
       "      <td>2</td>\n",
       "      <td>sai</td>\n",
       "      <td>18.0</td>\n",
       "      <td>75.000000</td>\n",
       "      <td>20.0</td>\n",
       "      <td>35.0</td>\n",
       "    </tr>\n",
       "    <tr>\n",
       "      <th>3</th>\n",
       "      <td>4</td>\n",
       "      <td>tinku</td>\n",
       "      <td>19.2</td>\n",
       "      <td>45.000000</td>\n",
       "      <td>30.0</td>\n",
       "      <td>33.0</td>\n",
       "    </tr>\n",
       "    <tr>\n",
       "      <th>4</th>\n",
       "      <td>5</td>\n",
       "      <td>ash</td>\n",
       "      <td>19.0</td>\n",
       "      <td>65.000000</td>\n",
       "      <td>10.0</td>\n",
       "      <td>45.0</td>\n",
       "    </tr>\n",
       "    <tr>\n",
       "      <th>5</th>\n",
       "      <td>6</td>\n",
       "      <td>niki</td>\n",
       "      <td>20.0</td>\n",
       "      <td>20.000000</td>\n",
       "      <td>5.0</td>\n",
       "      <td>10.0</td>\n",
       "    </tr>\n",
       "    <tr>\n",
       "      <th>6</th>\n",
       "      <td>4</td>\n",
       "      <td>tinku</td>\n",
       "      <td>19.2</td>\n",
       "      <td>45.000000</td>\n",
       "      <td>30.0</td>\n",
       "      <td>33.0</td>\n",
       "    </tr>\n",
       "  </tbody>\n",
       "</table>\n",
       "</div>"
      ],
      "text/plain": [
       "   usn     name   age  attendence  assignmets marks  IA-1\n",
       "0    1  shruthy  20.0   30.000000              20.0  30.0\n",
       "1    2     gali  19.0   46.666667              25.0  45.0\n",
       "2    2      sai  18.0   75.000000              20.0  35.0\n",
       "3    4    tinku  19.2   45.000000              30.0  33.0\n",
       "4    5      ash  19.0   65.000000              10.0  45.0\n",
       "5    6     niki  20.0   20.000000               5.0  10.0\n",
       "6    4    tinku  19.2   45.000000              30.0  33.0"
      ]
     },
     "execution_count": 31,
     "metadata": {},
     "output_type": "execute_result"
    }
   ],
   "source": [
    "#filling the missing values with mean values\n",
    "df.fillna(df.mean())"
   ]
  },
  {
   "cell_type": "code",
   "execution_count": null,
   "id": "8f8b7872-6803-4f4b-887e-40c70bf83cde",
   "metadata": {},
   "outputs": [],
   "source": [
    "#data analasis"
   ]
  },
  {
   "cell_type": "code",
   "execution_count": 34,
   "id": "2e90198a-3efa-4944-b38e-43a322d0e2f3",
   "metadata": {},
   "outputs": [
    {
     "data": {
      "text/html": [
       "<div>\n",
       "<style scoped>\n",
       "    .dataframe tbody tr th:only-of-type {\n",
       "        vertical-align: middle;\n",
       "    }\n",
       "\n",
       "    .dataframe tbody tr th {\n",
       "        vertical-align: top;\n",
       "    }\n",
       "\n",
       "    .dataframe thead th {\n",
       "        text-align: right;\n",
       "    }\n",
       "</style>\n",
       "<table border=\"1\" class=\"dataframe\">\n",
       "  <thead>\n",
       "    <tr style=\"text-align: right;\">\n",
       "      <th></th>\n",
       "      <th>usn</th>\n",
       "      <th>age</th>\n",
       "      <th>attendence</th>\n",
       "      <th>assignmets marks</th>\n",
       "      <th>IA-1</th>\n",
       "      <th>encode</th>\n",
       "    </tr>\n",
       "  </thead>\n",
       "  <tbody>\n",
       "    <tr>\n",
       "      <th>count</th>\n",
       "      <td>7.000000</td>\n",
       "      <td>5.00000</td>\n",
       "      <td>6.000000</td>\n",
       "      <td>6.000000</td>\n",
       "      <td>5.00000</td>\n",
       "      <td>6.000000</td>\n",
       "    </tr>\n",
       "    <tr>\n",
       "      <th>mean</th>\n",
       "      <td>3.428571</td>\n",
       "      <td>19.20000</td>\n",
       "      <td>46.666667</td>\n",
       "      <td>20.000000</td>\n",
       "      <td>33.00000</td>\n",
       "      <td>2.000000</td>\n",
       "    </tr>\n",
       "    <tr>\n",
       "      <th>std</th>\n",
       "      <td>1.812654</td>\n",
       "      <td>0.83666</td>\n",
       "      <td>20.655911</td>\n",
       "      <td>10.488088</td>\n",
       "      <td>14.40486</td>\n",
       "      <td>1.414214</td>\n",
       "    </tr>\n",
       "    <tr>\n",
       "      <th>min</th>\n",
       "      <td>1.000000</td>\n",
       "      <td>18.00000</td>\n",
       "      <td>20.000000</td>\n",
       "      <td>5.000000</td>\n",
       "      <td>10.00000</td>\n",
       "      <td>0.000000</td>\n",
       "    </tr>\n",
       "    <tr>\n",
       "      <th>25%</th>\n",
       "      <td>2.000000</td>\n",
       "      <td>19.00000</td>\n",
       "      <td>33.750000</td>\n",
       "      <td>12.500000</td>\n",
       "      <td>30.00000</td>\n",
       "      <td>1.250000</td>\n",
       "    </tr>\n",
       "    <tr>\n",
       "      <th>50%</th>\n",
       "      <td>4.000000</td>\n",
       "      <td>19.00000</td>\n",
       "      <td>45.000000</td>\n",
       "      <td>22.500000</td>\n",
       "      <td>35.00000</td>\n",
       "      <td>2.000000</td>\n",
       "    </tr>\n",
       "    <tr>\n",
       "      <th>75%</th>\n",
       "      <td>4.500000</td>\n",
       "      <td>20.00000</td>\n",
       "      <td>60.000000</td>\n",
       "      <td>28.750000</td>\n",
       "      <td>45.00000</td>\n",
       "      <td>2.750000</td>\n",
       "    </tr>\n",
       "    <tr>\n",
       "      <th>max</th>\n",
       "      <td>6.000000</td>\n",
       "      <td>20.00000</td>\n",
       "      <td>75.000000</td>\n",
       "      <td>30.000000</td>\n",
       "      <td>45.00000</td>\n",
       "      <td>4.000000</td>\n",
       "    </tr>\n",
       "  </tbody>\n",
       "</table>\n",
       "</div>"
      ],
      "text/plain": [
       "            usn       age  attendence  assignmets marks      IA-1    encode\n",
       "count  7.000000   5.00000    6.000000          6.000000   5.00000  6.000000\n",
       "mean   3.428571  19.20000   46.666667         20.000000  33.00000  2.000000\n",
       "std    1.812654   0.83666   20.655911         10.488088  14.40486  1.414214\n",
       "min    1.000000  18.00000   20.000000          5.000000  10.00000  0.000000\n",
       "25%    2.000000  19.00000   33.750000         12.500000  30.00000  1.250000\n",
       "50%    4.000000  19.00000   45.000000         22.500000  35.00000  2.000000\n",
       "75%    4.500000  20.00000   60.000000         28.750000  45.00000  2.750000\n",
       "max    6.000000  20.00000   75.000000         30.000000  45.00000  4.000000"
      ]
     },
     "execution_count": 34,
     "metadata": {},
     "output_type": "execute_result"
    }
   ],
   "source": [
    "\n",
    "#get overall statistics about dataset\n",
    "df.describe()"
   ]
  },
  {
   "cell_type": "code",
   "execution_count": 13,
   "id": "2f1864c2-830d-49fc-8533-500ba4a40d70",
   "metadata": {},
   "outputs": [
    {
     "name": "stdout",
     "output_type": "stream",
     "text": [
      "<class 'pandas.core.frame.DataFrame'>\n",
      "RangeIndex: 7 entries, 0 to 6\n",
      "Data columns (total 6 columns):\n",
      " #   Column            Non-Null Count  Dtype  \n",
      "---  ------            --------------  -----  \n",
      " 0   usn               7 non-null      int64  \n",
      " 1   name              7 non-null      object \n",
      " 2   age               5 non-null      float64\n",
      " 3   attendence        6 non-null      float64\n",
      " 4   assignmets marks  6 non-null      float64\n",
      " 5   IA-1              5 non-null      float64\n",
      "dtypes: float64(4), int64(1), object(1)\n",
      "memory usage: 464.0+ bytes\n"
     ]
    }
   ],
   "source": [
    "#to get informattion about dataset\n",
    "df.info()"
   ]
  },
  {
   "cell_type": "code",
   "execution_count": 18,
   "id": "e78d4414-0d58-40f4-a8a9-0a48de8eb4e7",
   "metadata": {},
   "outputs": [
    {
     "data": {
      "text/html": [
       "<div>\n",
       "<style scoped>\n",
       "    .dataframe tbody tr th:only-of-type {\n",
       "        vertical-align: middle;\n",
       "    }\n",
       "\n",
       "    .dataframe tbody tr th {\n",
       "        vertical-align: top;\n",
       "    }\n",
       "\n",
       "    .dataframe thead th {\n",
       "        text-align: right;\n",
       "    }\n",
       "</style>\n",
       "<table border=\"1\" class=\"dataframe\">\n",
       "  <thead>\n",
       "    <tr style=\"text-align: right;\">\n",
       "      <th></th>\n",
       "      <th>usn</th>\n",
       "      <th>name</th>\n",
       "      <th>attendence</th>\n",
       "      <th>assignmets marks</th>\n",
       "      <th>IA-1</th>\n",
       "      <th>age_18.0</th>\n",
       "      <th>age_19.0</th>\n",
       "      <th>age_20.0</th>\n",
       "    </tr>\n",
       "  </thead>\n",
       "  <tbody>\n",
       "    <tr>\n",
       "      <th>0</th>\n",
       "      <td>1</td>\n",
       "      <td>shruthy</td>\n",
       "      <td>30.0</td>\n",
       "      <td>20.0</td>\n",
       "      <td>30.0</td>\n",
       "      <td>0</td>\n",
       "      <td>0</td>\n",
       "      <td>1</td>\n",
       "    </tr>\n",
       "    <tr>\n",
       "      <th>1</th>\n",
       "      <td>2</td>\n",
       "      <td>gali</td>\n",
       "      <td>NaN</td>\n",
       "      <td>25.0</td>\n",
       "      <td>45.0</td>\n",
       "      <td>0</td>\n",
       "      <td>1</td>\n",
       "      <td>0</td>\n",
       "    </tr>\n",
       "    <tr>\n",
       "      <th>2</th>\n",
       "      <td>2</td>\n",
       "      <td>sai</td>\n",
       "      <td>75.0</td>\n",
       "      <td>NaN</td>\n",
       "      <td>35.0</td>\n",
       "      <td>1</td>\n",
       "      <td>0</td>\n",
       "      <td>0</td>\n",
       "    </tr>\n",
       "    <tr>\n",
       "      <th>3</th>\n",
       "      <td>4</td>\n",
       "      <td>tinku</td>\n",
       "      <td>45.0</td>\n",
       "      <td>30.0</td>\n",
       "      <td>NaN</td>\n",
       "      <td>0</td>\n",
       "      <td>0</td>\n",
       "      <td>0</td>\n",
       "    </tr>\n",
       "    <tr>\n",
       "      <th>4</th>\n",
       "      <td>5</td>\n",
       "      <td>ash</td>\n",
       "      <td>65.0</td>\n",
       "      <td>10.0</td>\n",
       "      <td>45.0</td>\n",
       "      <td>0</td>\n",
       "      <td>1</td>\n",
       "      <td>0</td>\n",
       "    </tr>\n",
       "  </tbody>\n",
       "</table>\n",
       "</div>"
      ],
      "text/plain": [
       "   usn     name  attendence  assignmets marks  IA-1  age_18.0  age_19.0  \\\n",
       "0    1  shruthy        30.0              20.0  30.0         0         0   \n",
       "1    2     gali         NaN              25.0  45.0         0         1   \n",
       "2    2      sai        75.0               NaN  35.0         1         0   \n",
       "3    4    tinku        45.0              30.0   NaN         0         0   \n",
       "4    5      ash        65.0              10.0  45.0         0         1   \n",
       "\n",
       "   age_20.0  \n",
       "0         1  \n",
       "1         0  \n",
       "2         0  \n",
       "3         0  \n",
       "4         0  "
      ]
     },
     "execution_count": 18,
     "metadata": {},
     "output_type": "execute_result"
    }
   ],
   "source": [
    "#pandas.get_dummies() is used for data manipulation. It converts categorical data into dummy or indicator variables.\n",
    "#head is used to retive first 5 rows\n",
    "pd.get_dummies(df,columns=[\"age\"]).head()"
   ]
  },
  {
   "cell_type": "code",
   "execution_count": 43,
   "id": "0bd30cef-2167-49da-bdf0-bbc069622e4c",
   "metadata": {},
   "outputs": [
    {
     "data": {
      "text/html": [
       "<div>\n",
       "<style scoped>\n",
       "    .dataframe tbody tr th:only-of-type {\n",
       "        vertical-align: middle;\n",
       "    }\n",
       "\n",
       "    .dataframe tbody tr th {\n",
       "        vertical-align: top;\n",
       "    }\n",
       "\n",
       "    .dataframe thead th {\n",
       "        text-align: right;\n",
       "    }\n",
       "</style>\n",
       "<table border=\"1\" class=\"dataframe\">\n",
       "  <thead>\n",
       "    <tr style=\"text-align: right;\">\n",
       "      <th></th>\n",
       "      <th>usn</th>\n",
       "      <th>name</th>\n",
       "      <th>age</th>\n",
       "      <th>attendence</th>\n",
       "      <th>assignmets marks</th>\n",
       "      <th>IA-1</th>\n",
       "      <th>encode</th>\n",
       "    </tr>\n",
       "  </thead>\n",
       "  <tbody>\n",
       "    <tr>\n",
       "      <th>4</th>\n",
       "      <td>5</td>\n",
       "      <td>ash</td>\n",
       "      <td>19.0</td>\n",
       "      <td>65.0</td>\n",
       "      <td>10.0</td>\n",
       "      <td>45.0</td>\n",
       "      <td>3.0</td>\n",
       "    </tr>\n",
       "    <tr>\n",
       "      <th>5</th>\n",
       "      <td>6</td>\n",
       "      <td>niki</td>\n",
       "      <td>20.0</td>\n",
       "      <td>20.0</td>\n",
       "      <td>5.0</td>\n",
       "      <td>10.0</td>\n",
       "      <td>0.0</td>\n",
       "    </tr>\n",
       "    <tr>\n",
       "      <th>6</th>\n",
       "      <td>4</td>\n",
       "      <td>tinku</td>\n",
       "      <td>NaN</td>\n",
       "      <td>45.0</td>\n",
       "      <td>30.0</td>\n",
       "      <td>NaN</td>\n",
       "      <td>2.0</td>\n",
       "    </tr>\n",
       "  </tbody>\n",
       "</table>\n",
       "</div>"
      ],
      "text/plain": [
       "   usn   name   age  attendence  assignmets marks  IA-1  encode\n",
       "4    5    ash  19.0        65.0              10.0  45.0     3.0\n",
       "5    6   niki  20.0        20.0               5.0  10.0     0.0\n",
       "6    4  tinku   NaN        45.0              30.0   NaN     2.0"
      ]
     },
     "execution_count": 43,
     "metadata": {},
     "output_type": "execute_result"
    }
   ],
   "source": [
    "#to retrive last 3 rows\n",
    "df.tail(3)"
   ]
  },
  {
   "cell_type": "code",
   "execution_count": 40,
   "id": "d52ab8da-3a81-4cac-926d-d3091a65c29e",
   "metadata": {},
   "outputs": [
    {
     "data": {
      "text/plain": [
       "(7, 7)"
      ]
     },
     "execution_count": 40,
     "metadata": {},
     "output_type": "execute_result"
    }
   ],
   "source": [
    "#to find no of rows and columns\n",
    "df.shape"
   ]
  },
  {
   "cell_type": "code",
   "execution_count": 41,
   "id": "fb1efd50-4e65-45c1-8df4-a1b43ab85402",
   "metadata": {},
   "outputs": [
    {
     "data": {
      "text/plain": [
       "49"
      ]
     },
     "execution_count": 41,
     "metadata": {},
     "output_type": "execute_result"
    }
   ],
   "source": [
    "#  the number of fields in the dataframe which is nothing but number of rows * number of columns.\n",
    "df.size "
   ]
  },
  {
   "cell_type": "code",
   "execution_count": 10,
   "id": "aa8d83ad-df9e-4921-bbc0-123a1c6d75d0",
   "metadata": {},
   "outputs": [
    {
     "data": {
      "text/plain": [
       "4"
      ]
     },
     "execution_count": 10,
     "metadata": {},
     "output_type": "execute_result"
    }
   ],
   "source": [
    "#use to find unique no of columns in a dataset\n",
    "h=df[\"IA-1\"].nunique()\n",
    "h"
   ]
  },
  {
   "cell_type": "code",
   "execution_count": 44,
   "id": "f92cceb2-e6b7-4799-b387-758b49f68c25",
   "metadata": {},
   "outputs": [
    {
     "data": {
      "text/plain": [
       "Index(['usn', 'name', 'age', 'attendence', 'assignmets marks', 'IA-1',\n",
       "       'encode'],\n",
       "      dtype='object')"
      ]
     },
     "execution_count": 44,
     "metadata": {},
     "output_type": "execute_result"
    }
   ],
   "source": [
    "#to retrive columns in dataframe\n",
    "df.columns"
   ]
  },
  {
   "cell_type": "code",
   "execution_count": 28,
   "id": "b1f7a163-75e3-45cd-8f74-5bff935993a5",
   "metadata": {},
   "outputs": [],
   "source": [
    "#encoding the dataset\n",
    "import pandas as pd\n",
    "df=pd.read_csv(\"carstone.csv\")\n",
    "from sklearn.preprocessing import OrdinalEncoder"
   ]
  },
  {
   "cell_type": "code",
   "execution_count": 29,
   "id": "a4aa65de-8f72-4825-8d52-3a5ca45f3866",
   "metadata": {},
   "outputs": [],
   "source": [
    "obj=OrdinalEncoder()"
   ]
  },
  {
   "cell_type": "code",
   "execution_count": 30,
   "id": "86429392-1549-4e0a-aa5a-b8b34346daee",
   "metadata": {},
   "outputs": [
    {
     "name": "stdout",
     "output_type": "stream",
     "text": [
      "0    1.0\n",
      "1    NaN\n",
      "2    4.0\n",
      "3    2.0\n",
      "4    3.0\n",
      "5    0.0\n",
      "6    2.0\n",
      "Name: encode, dtype: float64\n"
     ]
    }
   ],
   "source": [
    "df[\"encode\"]=obj.fit_transform(df[[\"attendence\"]])\n",
    "print(df[\"encode\"])"
   ]
  },
  {
   "cell_type": "code",
   "execution_count": 37,
   "id": "0cd43a8a-1249-47f9-88b7-460de11454d2",
   "metadata": {},
   "outputs": [
    {
     "data": {
      "text/plain": [
       "usn  name     age   attendence  assignmets marks  IA-1  encode\n",
       "1    shruthy  20.0  30.0        20.0              30.0  1.0       1\n",
       "5    ash      19.0  65.0        10.0              45.0  3.0       1\n",
       "6    niki     20.0  20.0        5.0               10.0  0.0       1\n",
       "dtype: int64"
      ]
     },
     "execution_count": 37,
     "metadata": {},
     "output_type": "execute_result"
    }
   ],
   "source": [
    "df.value_counts()"
   ]
  },
  {
   "cell_type": "code",
   "execution_count": null,
   "id": "22f8e9c2-5374-4daf-8339-a02100002d54",
   "metadata": {},
   "outputs": [],
   "source": [
    "#scaling "
   ]
  },
  {
   "cell_type": "code",
   "execution_count": 23,
   "id": "dcadd438-20a7-4f1f-88b2-3a355443d9b6",
   "metadata": {},
   "outputs": [
    {
     "data": {
      "text/plain": [
       "<AxesSubplot:>"
      ]
     },
     "execution_count": 23,
     "metadata": {},
     "output_type": "execute_result"
    },
    {
     "data": {
      "image/png": "[encoded data removed]",
      "text/plain": [
       "<Figure size 432x288 with 1 Axes>"
      ]
     },
     "metadata": {
      "needs_background": "light"
     },
     "output_type": "display_data"
    }
   ],
   "source": [
    "df.plot(kind=\"bar\")"
   ]
  },
  {
   "cell_type": "code",
   "execution_count": null,
   "id": "dd92a07a-dcfd-48ba-ad89-53089a753770",
   "metadata": {},
   "outputs": [],
   "source": [
    "#visualization"
   ]
  },
  {
   "cell_type": "code",
   "execution_count": 71,
   "id": "ea1f10f2-963b-4e00-896c-8f9d19b7fb3a",
   "metadata": {},
   "outputs": [],
   "source": [
    "from matplotlib import pyplot as p\n",
    "import numpy as np\n",
    "import seaborn as sns\n",
    "x=np.array([30,0,75,45,65,20,45])\n",
    "y=np.array([20,25,0,30,10,5,30])"
   ]
  },
  {
   "cell_type": "code",
   "execution_count": 76,
   "id": "327b3edf-24ce-47d0-af29-f934e593bc31",
   "metadata": {},
   "outputs": [
    {
     "data": {
      "image/png": "[encoded data removed]",
      "text/plain": [
       "<Figure size 432x288 with 1 Axes>"
      ]
     },
     "metadata": {
      "needs_background": "light"
     },
     "output_type": "display_data"
    }
   ],
   "source": [
    "p.plot(x,y,marker=\"^\")\n",
    "p.legend(labels=[\"attendence\",\"IA-1\"])\n",
    "p.show()"
   ]
  },
  {
   "cell_type": "code",
   "execution_count": 79,
   "id": "561f0311-b465-42e1-bb84-0dc7a021a6d2",
   "metadata": {},
   "outputs": [
    {
     "data": {
      "text/plain": [
       "<matplotlib.legend.Legend at 0x23daf05aee0>"
      ]
     },
     "execution_count": 79,
     "metadata": {},
     "output_type": "execute_result"
    },
    {
     "data": {
      "image/png": "[encoded data removed]",
      "text/plain": [
       "<Figure size 432x288 with 1 Axes>"
      ]
     },
     "metadata": {
      "needs_background": "light"
     },
     "output_type": "display_data"
    }
   ],
   "source": [
    "p.plot(x,\"p--g\")\n",
    "p.legend(labels=[\"attendence\"])"
   ]
  },
  {
   "cell_type": "code",
   "execution_count": 80,
   "id": "a089a980-94e6-4c4d-a364-c6ace39ed5bb",
   "metadata": {},
   "outputs": [
    {
     "data": {
      "text/plain": [
       "<matplotlib.legend.Legend at 0x23daf0f5280>"
      ]
     },
     "execution_count": 80,
     "metadata": {},
     "output_type": "execute_result"
    },
    {
     "data": {
      "image/png": "[encoded data removed]",
      "text/plain": [
       "<Figure size 432x288 with 1 Axes>"
      ]
     },
     "metadata": {
      "needs_background": "light"
     },
     "output_type": "display_data"
    }
   ],
   "source": [
    "p.plot(x,y,linestyle=\"dotted\",c=\"red\",marker=\"d\",ms=10,mfc=\"purple\",mec=\"green\")\n",
    "p.legend(labels=[\"attendence\",\"IA-1\"])"
   ]
  },
  {
   "cell_type": "code",
   "execution_count": null,
   "id": "a93fc667-d401-4e78-8fa9-c405ea97601d",
   "metadata": {},
   "outputs": [],
   "source": []
  }
 ],
 "metadata": {
  "kernelspec": {
   "display_name": "Python 3 (ipykernel)",
   "language": "python",
   "name": "python3"
  },
  "language_info": {
   "codemirror_mode": {
    "name": "ipython",
    "version": 3
   },
   "file_extension": ".py",
   "mimetype": "text/x-python",
   "name": "python",
   "nbconvert_exporter": "python",
   "pygments_lexer": "ipython3",
   "version": "3.9.12"
  }
 },
 "nbformat": 4,
 "nbformat_minor": 5
}
